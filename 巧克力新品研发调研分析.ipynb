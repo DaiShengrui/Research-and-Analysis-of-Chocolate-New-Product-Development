{
 "cells": [
  {
   "cell_type": "markdown",
   "metadata": {
    "id": "D89B0EAB542642F98900CCC4D4E49360",
    "jupyter": {},
    "notebookId": "66a75485b804a65ef51227c5",
    "runtime": {
     "execution_status": null,
     "is_visible": false,
     "status": "default"
    },
    "scrolled": false,
    "slideshow": {
     "slide_type": "slide"
    },
    "tags": []
   },
   "source": [
    "# 🍫巧克力🍫工艺/口味/评分数据集探索  \n",
    "\n",
    "\n",
    "## 数据背景  \n",
    "\n",
    "自2007年以来，曼哈顿巧克力协会的成员一直聚会，唯一的目的是品尝和评判高品质巧克力，以教育消费者并激励巧克力制造商生产更高品质的巧克力。从那时起，他们已经编制了一个包含超过2200个巧克力条的数据集，由他们的成员根据以下等级评分：  \n",
    "\n",
    "4.0–5.00 = 杰出  \n",
    "3.5–3.99 = 强烈推荐  \n",
    "3.0–3.49 = 推荐  \n",
    "2.0–2.99 = 令人失望  \n",
    "1.0–1.99 = 不愉快  \n",
    "这些评分来自于一个考虑到香气、外观、质地、风味、余味和整体意见的评分标准，评分的巧克力条大多是较深的巧克力条，因为目的是欣赏可可的风味。除了评分，曼哈顿巧克力协会的数据集还包括许多特征，如可可豆种植的国家、巧克力条含有的成分数量、是否包含盐，以及用来描述它的词语。  \n",
    "## 数据解释  \n",
    "\n",
    "company: 分类；巧克力条的制造商（超过500个不同的制造商）  \n",
    "company_location: 分类；制造商的国家（66个不同的国家）  \n",
    "review_date: 连续；巧克力条被评审的年份（从2006年到2020年）  \n",
    "country_of_bean_origin: 分类；可可豆采集的国家（62个不同的国家）  \n",
    "cocoa_percent: 分类；巧克力条中可可的百分比  \n",
    "rating: 连续；由曼哈顿巧克力协会给出的评分（可能的值：1-5）  \n",
    "counts_of_ingredients: 连续；巧克力条中的成分数量  \n",
    "cocoa_butter: 二进制；是否使用可可脂制作  \n",
    "vanilla: 二进制；是否使用香草制作  \n",
    "lecithin: 二进制；是否使用卵磷脂制作  \n",
    "salt: 二进制；是否使用盐制作  \n",
    "sugar: 二进制；是否使用糖制作  \n",
    "sweetener_without_sugar: 二进制；是否使用无糖甜味剂制作  \n",
    "first_taste: 文本；用来描述第一口味道的词（语）  \n",
    "second_taste: 文本；用来描述第二口味道的（语）  \n",
    "third_taste: 文本；用来描述第三口味道的词（语）  \n",
    "fourth_taste: 文本；用来描述第四口味道的词（语）  \n",
    "## 数据来源  \n",
    "http://flavorsofcacao.com/mcs_index.html"
   ]
  },
  {
   "cell_type": "markdown",
   "metadata": {
    "id": "BA7D0427D1164EE99D9654EA3EF7424F",
    "jupyter": {},
    "notebookId": "66a75485b804a65ef51227c5",
    "runtime": {
     "execution_status": null,
     "is_visible": false,
     "status": "default"
    },
    "scrolled": false,
    "slideshow": {
     "slide_type": "slide"
    },
    "tags": []
   },
   "source": [
    "## 任务概述  \n",
    "根据给出的数据，重点分析下什么样的巧克力可以拿到高分，高分巧克力是否有明显的地域性  \n",
    "\n",
    "### 一、数据处理"
   ]
  },
  {
   "cell_type": "code",
   "execution_count": 1,
   "metadata": {
    "collapsed": false,
    "id": "810CF482643D4985AFA558B9F60AF78D",
    "jupyter": {
     "outputs_hidden": false
    },
    "notebookId": "66a75485b804a65ef51227c5",
    "slideshow": {
     "slide_type": "slide"
    },
    "tags": []
   },
   "outputs": [],
   "source": [
    "# 导入库文件\n",
    "import pandas as pd\n",
    "import numpy as np\n",
    "import matplotlib.pyplot as plt\n",
    "import seaborn as sns"
   ]
  },
  {
   "cell_type": "code",
   "execution_count": 2,
   "metadata": {
    "collapsed": false,
    "id": "4FC61B519BE24DD590C9913A15FBDA95",
    "jupyter": {
     "outputs_hidden": false
    },
    "notebookId": "66a75485b804a65ef51227c5",
    "slideshow": {
     "slide_type": "slide"
    },
    "tags": []
   },
   "outputs": [],
   "source": [
    "# 导入数据集\n",
    "df=pd.read_csv('/home/mw/input/chocolate1075/chocolate_v2.csv')"
   ]
  },
  {
   "cell_type": "code",
   "execution_count": 3,
   "metadata": {
    "collapsed": false,
    "id": "16BEDEF83DF24B65ABB0E52615CECDCB",
    "jupyter": {
     "outputs_hidden": false
    },
    "notebookId": "66a75485b804a65ef51227c5",
    "slideshow": {
     "slide_type": "slide"
    },
    "tags": []
   },
   "outputs": [
    {
     "data": {
      "text/html": [
       "<div>\n",
       "<style scoped>\n",
       "    .dataframe tbody tr th:only-of-type {\n",
       "        vertical-align: middle;\n",
       "    }\n",
       "\n",
       "    .dataframe tbody tr th {\n",
       "        vertical-align: top;\n",
       "    }\n",
       "\n",
       "    .dataframe thead th {\n",
       "        text-align: right;\n",
       "    }\n",
       "</style>\n",
       "<table border=\"1\" class=\"dataframe\">\n",
       "  <thead>\n",
       "    <tr style=\"text-align: right;\">\n",
       "      <th></th>\n",
       "      <th>company</th>\n",
       "      <th>company_location</th>\n",
       "      <th>review_date</th>\n",
       "      <th>country_of_bean_origin</th>\n",
       "      <th>specific_bean_origin_or_bar_name</th>\n",
       "      <th>cocoa_percent</th>\n",
       "      <th>rating</th>\n",
       "      <th>counts_of_ingredients</th>\n",
       "      <th>cocoa_butter</th>\n",
       "      <th>vanilla</th>\n",
       "      <th>lecithin</th>\n",
       "      <th>salt</th>\n",
       "      <th>sugar</th>\n",
       "      <th>sweetener_without_sugar</th>\n",
       "      <th>first_taste</th>\n",
       "      <th>second_taste</th>\n",
       "      <th>third_taste</th>\n",
       "      <th>fourth_taste</th>\n",
       "    </tr>\n",
       "  </thead>\n",
       "  <tbody>\n",
       "    <tr>\n",
       "      <th>604</th>\n",
       "      <td>Darcis</td>\n",
       "      <td>Belgium</td>\n",
       "      <td>2019</td>\n",
       "      <td>Vietnam</td>\n",
       "      <td>Mekong Delta</td>\n",
       "      <td>70.0</td>\n",
       "      <td>3.25</td>\n",
       "      <td>4</td>\n",
       "      <td>1</td>\n",
       "      <td>0</td>\n",
       "      <td>1</td>\n",
       "      <td>0</td>\n",
       "      <td>1</td>\n",
       "      <td>0</td>\n",
       "      <td>muted</td>\n",
       "      <td>creamy</td>\n",
       "      <td>basic</td>\n",
       "      <td>NaN</td>\n",
       "    </tr>\n",
       "    <tr>\n",
       "      <th>332</th>\n",
       "      <td>Bullion</td>\n",
       "      <td>U.k.</td>\n",
       "      <td>2018</td>\n",
       "      <td>Bolivia</td>\n",
       "      <td>Alto Beni, No.2, Batch 17, 2016</td>\n",
       "      <td>70.0</td>\n",
       "      <td>2.50</td>\n",
       "      <td>3</td>\n",
       "      <td>1</td>\n",
       "      <td>0</td>\n",
       "      <td>0</td>\n",
       "      <td>0</td>\n",
       "      <td>1</td>\n",
       "      <td>0</td>\n",
       "      <td>dirt</td>\n",
       "      <td>earthy</td>\n",
       "      <td>floral</td>\n",
       "      <td>NaN</td>\n",
       "    </tr>\n",
       "    <tr>\n",
       "      <th>1628</th>\n",
       "      <td>Piety and Desire</td>\n",
       "      <td>U.S.A</td>\n",
       "      <td>2020</td>\n",
       "      <td>Tanzania</td>\n",
       "      <td>Kokoa Kamili, Kilombero Valley, batch 304</td>\n",
       "      <td>70.0</td>\n",
       "      <td>3.50</td>\n",
       "      <td>3</td>\n",
       "      <td>1</td>\n",
       "      <td>0</td>\n",
       "      <td>0</td>\n",
       "      <td>0</td>\n",
       "      <td>1</td>\n",
       "      <td>0</td>\n",
       "      <td>sweet</td>\n",
       "      <td>cream</td>\n",
       "      <td>cherry</td>\n",
       "      <td>rich</td>\n",
       "    </tr>\n",
       "    <tr>\n",
       "      <th>91</th>\n",
       "      <td>Amedei</td>\n",
       "      <td>Italy</td>\n",
       "      <td>2007</td>\n",
       "      <td>Trinidad</td>\n",
       "      <td>Trinidad</td>\n",
       "      <td>70.0</td>\n",
       "      <td>3.50</td>\n",
       "      <td>4</td>\n",
       "      <td>1</td>\n",
       "      <td>1</td>\n",
       "      <td>0</td>\n",
       "      <td>0</td>\n",
       "      <td>1</td>\n",
       "      <td>0</td>\n",
       "      <td>coffee</td>\n",
       "      <td>fruit</td>\n",
       "      <td>woodsy</td>\n",
       "      <td>NaN</td>\n",
       "    </tr>\n",
       "    <tr>\n",
       "      <th>2105</th>\n",
       "      <td>Valrhona</td>\n",
       "      <td>France</td>\n",
       "      <td>2007</td>\n",
       "      <td>Venezuela</td>\n",
       "      <td>Chuao 2002 P.</td>\n",
       "      <td>65.0</td>\n",
       "      <td>3.75</td>\n",
       "      <td>5</td>\n",
       "      <td>1</td>\n",
       "      <td>1</td>\n",
       "      <td>1</td>\n",
       "      <td>0</td>\n",
       "      <td>1</td>\n",
       "      <td>0</td>\n",
       "      <td>sandy</td>\n",
       "      <td>vegetal</td>\n",
       "      <td>cocoa</td>\n",
       "      <td>NaN</td>\n",
       "    </tr>\n",
       "  </tbody>\n",
       "</table>\n",
       "</div>"
      ],
      "text/plain": [
       "               company company_location  review_date country_of_bean_origin  \\\n",
       "604             Darcis          Belgium         2019                Vietnam   \n",
       "332            Bullion             U.k.         2018                Bolivia   \n",
       "1628  Piety and Desire            U.S.A         2020               Tanzania   \n",
       "91              Amedei            Italy         2007               Trinidad   \n",
       "2105          Valrhona           France         2007              Venezuela   \n",
       "\n",
       "               specific_bean_origin_or_bar_name  cocoa_percent  rating  \\\n",
       "604                                Mekong Delta           70.0    3.25   \n",
       "332             Alto Beni, No.2, Batch 17, 2016           70.0    2.50   \n",
       "1628  Kokoa Kamili, Kilombero Valley, batch 304           70.0    3.50   \n",
       "91                                     Trinidad           70.0    3.50   \n",
       "2105                              Chuao 2002 P.           65.0    3.75   \n",
       "\n",
       "      counts_of_ingredients  cocoa_butter  vanilla  lecithin  salt  sugar  \\\n",
       "604                       4             1        0         1     0      1   \n",
       "332                       3             1        0         0     0      1   \n",
       "1628                      3             1        0         0     0      1   \n",
       "91                        4             1        1         0     0      1   \n",
       "2105                      5             1        1         1     0      1   \n",
       "\n",
       "      sweetener_without_sugar first_taste second_taste third_taste  \\\n",
       "604                         0       muted       creamy       basic   \n",
       "332                         0        dirt       earthy      floral   \n",
       "1628                        0       sweet        cream      cherry   \n",
       "91                          0      coffee        fruit      woodsy   \n",
       "2105                        0       sandy      vegetal       cocoa   \n",
       "\n",
       "     fourth_taste  \n",
       "604           NaN  \n",
       "332           NaN  \n",
       "1628         rich  \n",
       "91            NaN  \n",
       "2105          NaN  "
      ]
     },
     "execution_count": 3,
     "metadata": {},
     "output_type": "execute_result"
    }
   ],
   "source": [
    "# 查看数据集概况\n",
    "df.sample(5)"
   ]
  },
  {
   "cell_type": "code",
   "execution_count": 4,
   "metadata": {
    "collapsed": false,
    "id": "B426F2CD0AFC4D4A9D314B987753F947",
    "jupyter": {
     "outputs_hidden": false
    },
    "notebookId": "66a75485b804a65ef51227c5",
    "slideshow": {
     "slide_type": "slide"
    },
    "tags": []
   },
   "outputs": [
    {
     "name": "stdout",
     "output_type": "stream",
     "text": [
      "<class 'pandas.core.frame.DataFrame'>\n",
      "RangeIndex: 2224 entries, 0 to 2223\n",
      "Data columns (total 18 columns):\n",
      "company                             2224 non-null object\n",
      "company_location                    2224 non-null object\n",
      "review_date                         2224 non-null int64\n",
      "country_of_bean_origin              2224 non-null object\n",
      "specific_bean_origin_or_bar_name    2224 non-null object\n",
      "cocoa_percent                       2224 non-null float64\n",
      "rating                              2224 non-null float64\n",
      "counts_of_ingredients               2224 non-null int64\n",
      "cocoa_butter                        2224 non-null int64\n",
      "vanilla                             2224 non-null int64\n",
      "lecithin                            2224 non-null int64\n",
      "salt                                2224 non-null int64\n",
      "sugar                               2224 non-null int64\n",
      "sweetener_without_sugar             2224 non-null int64\n",
      "first_taste                         2219 non-null object\n",
      "second_taste                        2142 non-null object\n",
      "third_taste                         1590 non-null object\n",
      "fourth_taste                        234 non-null object\n",
      "dtypes: float64(2), int64(8), object(8)\n",
      "memory usage: 312.8+ KB\n"
     ]
    }
   ],
   "source": [
    "# 查看数据集信息\n",
    "df.info()# 有空值"
   ]
  },
  {
   "cell_type": "code",
   "execution_count": 5,
   "metadata": {
    "collapsed": false,
    "id": "C67BC47E57824E52BCC27CF5DF4B09D6",
    "jupyter": {
     "outputs_hidden": false
    },
    "notebookId": "66a75485b804a65ef51227c5",
    "slideshow": {
     "slide_type": "slide"
    },
    "tags": []
   },
   "outputs": [],
   "source": [
    "# 处理空值 分析taste需要\n",
    "df_nona=df.fillna('')# 需要处理空值的列都是字符串类型的，直接填充‘’"
   ]
  },
  {
   "cell_type": "code",
   "execution_count": 6,
   "metadata": {
    "collapsed": false,
    "id": "F6AB09AAB81A4FBA93B26B1AD4FA9BA6",
    "jupyter": {
     "outputs_hidden": false
    },
    "notebookId": "66a75485b804a65ef51227c5",
    "slideshow": {
     "slide_type": "slide"
    },
    "tags": []
   },
   "outputs": [
    {
     "data": {
      "text/html": [
       "<div>\n",
       "<style scoped>\n",
       "    .dataframe tbody tr th:only-of-type {\n",
       "        vertical-align: middle;\n",
       "    }\n",
       "\n",
       "    .dataframe tbody tr th {\n",
       "        vertical-align: top;\n",
       "    }\n",
       "\n",
       "    .dataframe thead th {\n",
       "        text-align: right;\n",
       "    }\n",
       "</style>\n",
       "<table border=\"1\" class=\"dataframe\">\n",
       "  <thead>\n",
       "    <tr style=\"text-align: right;\">\n",
       "      <th></th>\n",
       "      <th>company</th>\n",
       "      <th>company_location</th>\n",
       "      <th>review_date</th>\n",
       "      <th>country_of_bean_origin</th>\n",
       "      <th>specific_bean_origin_or_bar_name</th>\n",
       "      <th>cocoa_percent</th>\n",
       "      <th>rating</th>\n",
       "      <th>counts_of_ingredients</th>\n",
       "      <th>cocoa_butter</th>\n",
       "      <th>vanilla</th>\n",
       "      <th>lecithin</th>\n",
       "      <th>salt</th>\n",
       "      <th>sugar</th>\n",
       "      <th>sweetener_without_sugar</th>\n",
       "      <th>first_taste</th>\n",
       "      <th>second_taste</th>\n",
       "      <th>third_taste</th>\n",
       "      <th>fourth_taste</th>\n",
       "    </tr>\n",
       "  </thead>\n",
       "  <tbody>\n",
       "  </tbody>\n",
       "</table>\n",
       "</div>"
      ],
      "text/plain": [
       "Empty DataFrame\n",
       "Columns: [company, company_location, review_date, country_of_bean_origin, specific_bean_origin_or_bar_name, cocoa_percent, rating, counts_of_ingredients, cocoa_butter, vanilla, lecithin, salt, sugar, sweetener_without_sugar, first_taste, second_taste, third_taste, fourth_taste]\n",
       "Index: []"
      ]
     },
     "execution_count": 6,
     "metadata": {},
     "output_type": "execute_result"
    }
   ],
   "source": [
    "df_nona[df_nona.isna().get_values()]# 查看数据集已经没有空值"
   ]
  },
  {
   "cell_type": "code",
   "execution_count": 7,
   "metadata": {
    "collapsed": false,
    "id": "B16AC16501634A349553692C034FDBD3",
    "jupyter": {
     "outputs_hidden": false
    },
    "notebookId": "66a75485b804a65ef51227c5",
    "slideshow": {
     "slide_type": "slide"
    },
    "tags": []
   },
   "outputs": [
    {
     "data": {
      "text/html": [
       "<div>\n",
       "<style scoped>\n",
       "    .dataframe tbody tr th:only-of-type {\n",
       "        vertical-align: middle;\n",
       "    }\n",
       "\n",
       "    .dataframe tbody tr th {\n",
       "        vertical-align: top;\n",
       "    }\n",
       "\n",
       "    .dataframe thead th {\n",
       "        text-align: right;\n",
       "    }\n",
       "</style>\n",
       "<table border=\"1\" class=\"dataframe\">\n",
       "  <thead>\n",
       "    <tr style=\"text-align: right;\">\n",
       "      <th></th>\n",
       "      <th>first_taste</th>\n",
       "      <th>second_taste</th>\n",
       "      <th>third_taste</th>\n",
       "      <th>fourth_taste</th>\n",
       "      <th>taste</th>\n",
       "    </tr>\n",
       "  </thead>\n",
       "  <tbody>\n",
       "    <tr>\n",
       "      <th>0</th>\n",
       "      <td>cocoa</td>\n",
       "      <td>blackberry</td>\n",
       "      <td>robust</td>\n",
       "      <td></td>\n",
       "      <td>cocoa blackberry robust</td>\n",
       "    </tr>\n",
       "    <tr>\n",
       "      <th>1</th>\n",
       "      <td>cocoa</td>\n",
       "      <td>vegetal</td>\n",
       "      <td>savory</td>\n",
       "      <td></td>\n",
       "      <td>cocoa vegetal savory</td>\n",
       "    </tr>\n",
       "    <tr>\n",
       "      <th>2</th>\n",
       "      <td>rich</td>\n",
       "      <td>fatty</td>\n",
       "      <td>bready</td>\n",
       "      <td></td>\n",
       "      <td>rich fatty bready</td>\n",
       "    </tr>\n",
       "    <tr>\n",
       "      <th>3</th>\n",
       "      <td>fruity</td>\n",
       "      <td>melon</td>\n",
       "      <td>roasty</td>\n",
       "      <td></td>\n",
       "      <td>fruity melon roasty</td>\n",
       "    </tr>\n",
       "    <tr>\n",
       "      <th>4</th>\n",
       "      <td>vegetal</td>\n",
       "      <td>nutty</td>\n",
       "      <td></td>\n",
       "      <td></td>\n",
       "      <td>vegetal nutty</td>\n",
       "    </tr>\n",
       "  </tbody>\n",
       "</table>\n",
       "</div>"
      ],
      "text/plain": [
       "  first_taste second_taste third_taste fourth_taste                     taste\n",
       "0       cocoa   blackberry      robust               cocoa blackberry robust \n",
       "1       cocoa      vegetal      savory                  cocoa vegetal savory \n",
       "2        rich        fatty      bready                     rich fatty bready \n",
       "3      fruity        melon      roasty                   fruity melon roasty \n",
       "4     vegetal        nutty                                    vegetal nutty  "
      ]
     },
     "execution_count": 7,
     "metadata": {},
     "output_type": "execute_result"
    }
   ],
   "source": [
    "#增加一列，将四列taste相关数据合并 分析taste需要\n",
    "df_nona['taste']=df_nona.iloc[:,14:18].apply(lambda x: ' '.join(x), axis=1)\n",
    "df_nona.iloc[:,14:].head()"
   ]
  },
  {
   "cell_type": "code",
   "execution_count": 8,
   "metadata": {
    "collapsed": false,
    "id": "162F8537ED834B0EA022F55F469EFA68",
    "jupyter": {
     "outputs_hidden": false
    },
    "notebookId": "66a75485b804a65ef51227c5",
    "slideshow": {
     "slide_type": "slide"
    },
    "tags": []
   },
   "outputs": [
    {
     "data": {
      "text/html": [
       "<div>\n",
       "<style scoped>\n",
       "    .dataframe tbody tr th:only-of-type {\n",
       "        vertical-align: middle;\n",
       "    }\n",
       "\n",
       "    .dataframe tbody tr th {\n",
       "        vertical-align: top;\n",
       "    }\n",
       "\n",
       "    .dataframe thead th {\n",
       "        text-align: right;\n",
       "    }\n",
       "</style>\n",
       "<table border=\"1\" class=\"dataframe\">\n",
       "  <thead>\n",
       "    <tr style=\"text-align: right;\">\n",
       "      <th></th>\n",
       "      <th>company</th>\n",
       "      <th>company_location</th>\n",
       "      <th>review_date</th>\n",
       "      <th>country_of_bean_origin</th>\n",
       "      <th>specific_bean_origin_or_bar_name</th>\n",
       "      <th>cocoa_percent</th>\n",
       "      <th>rating</th>\n",
       "      <th>counts_of_ingredients</th>\n",
       "      <th>cocoa_butter</th>\n",
       "      <th>vanilla</th>\n",
       "      <th>lecithin</th>\n",
       "      <th>salt</th>\n",
       "      <th>sugar</th>\n",
       "      <th>sweetener_without_sugar</th>\n",
       "      <th>first_taste</th>\n",
       "      <th>second_taste</th>\n",
       "      <th>third_taste</th>\n",
       "      <th>fourth_taste</th>\n",
       "      <th>taste</th>\n",
       "      <th>content</th>\n",
       "    </tr>\n",
       "  </thead>\n",
       "  <tbody>\n",
       "    <tr>\n",
       "      <th>0</th>\n",
       "      <td>5150</td>\n",
       "      <td>U.S.A</td>\n",
       "      <td>2019</td>\n",
       "      <td>Madagascar</td>\n",
       "      <td>Bejofo Estate, batch 1</td>\n",
       "      <td>76.0</td>\n",
       "      <td>3.75</td>\n",
       "      <td>3</td>\n",
       "      <td>1</td>\n",
       "      <td>0</td>\n",
       "      <td>0</td>\n",
       "      <td>0</td>\n",
       "      <td>1</td>\n",
       "      <td>0</td>\n",
       "      <td>cocoa</td>\n",
       "      <td>blackberry</td>\n",
       "      <td>robust</td>\n",
       "      <td></td>\n",
       "      <td>cocoa blackberry robust</td>\n",
       "      <td>100010</td>\n",
       "    </tr>\n",
       "    <tr>\n",
       "      <th>1</th>\n",
       "      <td>5150</td>\n",
       "      <td>U.S.A</td>\n",
       "      <td>2019</td>\n",
       "      <td>Dominican republic</td>\n",
       "      <td>Zorzal, batch 1</td>\n",
       "      <td>76.0</td>\n",
       "      <td>3.50</td>\n",
       "      <td>3</td>\n",
       "      <td>1</td>\n",
       "      <td>0</td>\n",
       "      <td>0</td>\n",
       "      <td>0</td>\n",
       "      <td>1</td>\n",
       "      <td>0</td>\n",
       "      <td>cocoa</td>\n",
       "      <td>vegetal</td>\n",
       "      <td>savory</td>\n",
       "      <td></td>\n",
       "      <td>cocoa vegetal savory</td>\n",
       "      <td>100010</td>\n",
       "    </tr>\n",
       "    <tr>\n",
       "      <th>2</th>\n",
       "      <td>5150</td>\n",
       "      <td>U.S.A</td>\n",
       "      <td>2019</td>\n",
       "      <td>Tanzania</td>\n",
       "      <td>Kokoa Kamili, batch 1</td>\n",
       "      <td>76.0</td>\n",
       "      <td>3.25</td>\n",
       "      <td>3</td>\n",
       "      <td>1</td>\n",
       "      <td>0</td>\n",
       "      <td>0</td>\n",
       "      <td>0</td>\n",
       "      <td>1</td>\n",
       "      <td>0</td>\n",
       "      <td>rich</td>\n",
       "      <td>fatty</td>\n",
       "      <td>bready</td>\n",
       "      <td></td>\n",
       "      <td>rich fatty bready</td>\n",
       "      <td>100010</td>\n",
       "    </tr>\n",
       "    <tr>\n",
       "      <th>3</th>\n",
       "      <td>A. Morin</td>\n",
       "      <td>France</td>\n",
       "      <td>2012</td>\n",
       "      <td>Peru</td>\n",
       "      <td>Peru</td>\n",
       "      <td>63.0</td>\n",
       "      <td>3.75</td>\n",
       "      <td>4</td>\n",
       "      <td>1</td>\n",
       "      <td>0</td>\n",
       "      <td>1</td>\n",
       "      <td>0</td>\n",
       "      <td>1</td>\n",
       "      <td>0</td>\n",
       "      <td>fruity</td>\n",
       "      <td>melon</td>\n",
       "      <td>roasty</td>\n",
       "      <td></td>\n",
       "      <td>fruity melon roasty</td>\n",
       "      <td>101010</td>\n",
       "    </tr>\n",
       "    <tr>\n",
       "      <th>4</th>\n",
       "      <td>A. Morin</td>\n",
       "      <td>France</td>\n",
       "      <td>2012</td>\n",
       "      <td>Bolivia</td>\n",
       "      <td>Bolivia</td>\n",
       "      <td>70.0</td>\n",
       "      <td>3.50</td>\n",
       "      <td>4</td>\n",
       "      <td>1</td>\n",
       "      <td>0</td>\n",
       "      <td>1</td>\n",
       "      <td>0</td>\n",
       "      <td>1</td>\n",
       "      <td>0</td>\n",
       "      <td>vegetal</td>\n",
       "      <td>nutty</td>\n",
       "      <td></td>\n",
       "      <td></td>\n",
       "      <td>vegetal nutty</td>\n",
       "      <td>101010</td>\n",
       "    </tr>\n",
       "  </tbody>\n",
       "</table>\n",
       "</div>"
      ],
      "text/plain": [
       "    company company_location  review_date country_of_bean_origin  \\\n",
       "0      5150            U.S.A         2019             Madagascar   \n",
       "1      5150            U.S.A         2019     Dominican republic   \n",
       "2      5150            U.S.A         2019               Tanzania   \n",
       "3  A. Morin           France         2012                   Peru   \n",
       "4  A. Morin           France         2012                Bolivia   \n",
       "\n",
       "  specific_bean_origin_or_bar_name  cocoa_percent  rating  \\\n",
       "0           Bejofo Estate, batch 1           76.0    3.75   \n",
       "1                  Zorzal, batch 1           76.0    3.50   \n",
       "2            Kokoa Kamili, batch 1           76.0    3.25   \n",
       "3                             Peru           63.0    3.75   \n",
       "4                          Bolivia           70.0    3.50   \n",
       "\n",
       "   counts_of_ingredients cocoa_butter vanilla lecithin salt sugar  \\\n",
       "0                      3            1       0        0    0     1   \n",
       "1                      3            1       0        0    0     1   \n",
       "2                      3            1       0        0    0     1   \n",
       "3                      4            1       0        1    0     1   \n",
       "4                      4            1       0        1    0     1   \n",
       "\n",
       "  sweetener_without_sugar first_taste second_taste third_taste fourth_taste  \\\n",
       "0                       0       cocoa   blackberry      robust                \n",
       "1                       0       cocoa      vegetal      savory                \n",
       "2                       0        rich        fatty      bready                \n",
       "3                       0      fruity        melon      roasty                \n",
       "4                       0     vegetal        nutty                            \n",
       "\n",
       "                      taste content  \n",
       "0  cocoa blackberry robust   100010  \n",
       "1     cocoa vegetal savory   100010  \n",
       "2        rich fatty bready   100010  \n",
       "3      fruity melon roasty   101010  \n",
       "4           vegetal nutty    101010  "
      ]
     },
     "execution_count": 8,
     "metadata": {},
     "output_type": "execute_result"
    }
   ],
   "source": [
    "#增加一列 content 将各个成分组合成字符串表示\n",
    "df_nona.iloc[:,8:14]=df_nona.iloc[:,8:14].astype(str)\n",
    "df_nona['content'] =df_nona.iloc[:,8:14].apply(lambda x: ''.join(x), axis=1)\n",
    "df_nona.head()"
   ]
  },
  {
   "cell_type": "markdown",
   "metadata": {
    "id": "5E7C05E605504EE19AC940A01E3B9BDD",
    "jupyter": {},
    "notebookId": "66a75485b804a65ef51227c5",
    "runtime": {
     "execution_status": null,
     "is_visible": false,
     "status": "default"
    },
    "scrolled": false,
    "slideshow": {
     "slide_type": "slide"
    },
    "tags": []
   },
   "source": [
    "### 二、查看随时间相关的数据变化"
   ]
  },
  {
   "cell_type": "code",
   "execution_count": 9,
   "metadata": {
    "collapsed": false,
    "id": "AE752179BE744B32BAA932409D3AF49B",
    "jupyter": {
     "outputs_hidden": false
    },
    "notebookId": "66a75485b804a65ef51227c5",
    "slideshow": {
     "slide_type": "slide"
    },
    "tags": []
   },
   "outputs": [
    {
     "data": {
      "text/html": [
       "<div>\n",
       "<style scoped>\n",
       "    .dataframe tbody tr th:only-of-type {\n",
       "        vertical-align: middle;\n",
       "    }\n",
       "\n",
       "    .dataframe tbody tr th {\n",
       "        vertical-align: top;\n",
       "    }\n",
       "\n",
       "    .dataframe thead th {\n",
       "        text-align: right;\n",
       "    }\n",
       "</style>\n",
       "<table border=\"1\" class=\"dataframe\">\n",
       "  <thead>\n",
       "    <tr style=\"text-align: right;\">\n",
       "      <th></th>\n",
       "      <th>count</th>\n",
       "      <th>mean</th>\n",
       "      <th>std</th>\n",
       "      <th>min</th>\n",
       "      <th>25%</th>\n",
       "      <th>50%</th>\n",
       "      <th>75%</th>\n",
       "      <th>max</th>\n",
       "    </tr>\n",
       "    <tr>\n",
       "      <th>review_date</th>\n",
       "      <th></th>\n",
       "      <th></th>\n",
       "      <th></th>\n",
       "      <th></th>\n",
       "      <th></th>\n",
       "      <th></th>\n",
       "      <th></th>\n",
       "      <th></th>\n",
       "    </tr>\n",
       "  </thead>\n",
       "  <tbody>\n",
       "    <tr>\n",
       "      <th>2006</th>\n",
       "      <td>60.0</td>\n",
       "      <td>3.062500</td>\n",
       "      <td>0.660035</td>\n",
       "      <td>1.50</td>\n",
       "      <td>2.7500</td>\n",
       "      <td>3.00</td>\n",
       "      <td>3.75</td>\n",
       "      <td>4.0</td>\n",
       "    </tr>\n",
       "    <tr>\n",
       "      <th>2007</th>\n",
       "      <td>69.0</td>\n",
       "      <td>3.166667</td>\n",
       "      <td>0.598200</td>\n",
       "      <td>1.00</td>\n",
       "      <td>3.0000</td>\n",
       "      <td>3.00</td>\n",
       "      <td>3.50</td>\n",
       "      <td>4.0</td>\n",
       "    </tr>\n",
       "    <tr>\n",
       "      <th>2008</th>\n",
       "      <td>84.0</td>\n",
       "      <td>3.038690</td>\n",
       "      <td>0.494692</td>\n",
       "      <td>1.50</td>\n",
       "      <td>2.7500</td>\n",
       "      <td>3.00</td>\n",
       "      <td>3.50</td>\n",
       "      <td>4.0</td>\n",
       "    </tr>\n",
       "    <tr>\n",
       "      <th>2009</th>\n",
       "      <td>113.0</td>\n",
       "      <td>3.088496</td>\n",
       "      <td>0.439308</td>\n",
       "      <td>1.75</td>\n",
       "      <td>2.7500</td>\n",
       "      <td>3.00</td>\n",
       "      <td>3.50</td>\n",
       "      <td>4.0</td>\n",
       "    </tr>\n",
       "    <tr>\n",
       "      <th>2010</th>\n",
       "      <td>94.0</td>\n",
       "      <td>3.188830</td>\n",
       "      <td>0.431748</td>\n",
       "      <td>2.00</td>\n",
       "      <td>2.7500</td>\n",
       "      <td>3.25</td>\n",
       "      <td>3.50</td>\n",
       "      <td>4.0</td>\n",
       "    </tr>\n",
       "    <tr>\n",
       "      <th>2011</th>\n",
       "      <td>153.0</td>\n",
       "      <td>3.271242</td>\n",
       "      <td>0.475508</td>\n",
       "      <td>1.50</td>\n",
       "      <td>3.0000</td>\n",
       "      <td>3.25</td>\n",
       "      <td>3.50</td>\n",
       "      <td>4.0</td>\n",
       "    </tr>\n",
       "    <tr>\n",
       "      <th>2012</th>\n",
       "      <td>180.0</td>\n",
       "      <td>3.206944</td>\n",
       "      <td>0.464396</td>\n",
       "      <td>1.50</td>\n",
       "      <td>3.0000</td>\n",
       "      <td>3.25</td>\n",
       "      <td>3.50</td>\n",
       "      <td>4.0</td>\n",
       "    </tr>\n",
       "    <tr>\n",
       "      <th>2013</th>\n",
       "      <td>178.0</td>\n",
       "      <td>3.214888</td>\n",
       "      <td>0.430760</td>\n",
       "      <td>2.25</td>\n",
       "      <td>2.8125</td>\n",
       "      <td>3.25</td>\n",
       "      <td>3.50</td>\n",
       "      <td>4.0</td>\n",
       "    </tr>\n",
       "    <tr>\n",
       "      <th>2014</th>\n",
       "      <td>243.0</td>\n",
       "      <td>3.197531</td>\n",
       "      <td>0.409184</td>\n",
       "      <td>2.25</td>\n",
       "      <td>3.0000</td>\n",
       "      <td>3.25</td>\n",
       "      <td>3.50</td>\n",
       "      <td>4.0</td>\n",
       "    </tr>\n",
       "    <tr>\n",
       "      <th>2015</th>\n",
       "      <td>280.0</td>\n",
       "      <td>3.243750</td>\n",
       "      <td>0.382416</td>\n",
       "      <td>2.00</td>\n",
       "      <td>3.0000</td>\n",
       "      <td>3.25</td>\n",
       "      <td>3.50</td>\n",
       "      <td>4.0</td>\n",
       "    </tr>\n",
       "    <tr>\n",
       "      <th>2016</th>\n",
       "      <td>215.0</td>\n",
       "      <td>3.236047</td>\n",
       "      <td>0.415574</td>\n",
       "      <td>2.00</td>\n",
       "      <td>3.0000</td>\n",
       "      <td>3.25</td>\n",
       "      <td>3.50</td>\n",
       "      <td>4.0</td>\n",
       "    </tr>\n",
       "    <tr>\n",
       "      <th>2017</th>\n",
       "      <td>102.0</td>\n",
       "      <td>3.362745</td>\n",
       "      <td>0.347600</td>\n",
       "      <td>2.50</td>\n",
       "      <td>3.2500</td>\n",
       "      <td>3.50</td>\n",
       "      <td>3.50</td>\n",
       "      <td>4.0</td>\n",
       "    </tr>\n",
       "    <tr>\n",
       "      <th>2018</th>\n",
       "      <td>225.0</td>\n",
       "      <td>3.191556</td>\n",
       "      <td>0.388328</td>\n",
       "      <td>2.00</td>\n",
       "      <td>3.0000</td>\n",
       "      <td>3.25</td>\n",
       "      <td>3.50</td>\n",
       "      <td>4.0</td>\n",
       "    </tr>\n",
       "    <tr>\n",
       "      <th>2019</th>\n",
       "      <td>195.0</td>\n",
       "      <td>3.133333</td>\n",
       "      <td>0.375014</td>\n",
       "      <td>2.25</td>\n",
       "      <td>3.0000</td>\n",
       "      <td>3.00</td>\n",
       "      <td>3.50</td>\n",
       "      <td>4.0</td>\n",
       "    </tr>\n",
       "    <tr>\n",
       "      <th>2020</th>\n",
       "      <td>33.0</td>\n",
       "      <td>3.159091</td>\n",
       "      <td>0.285168</td>\n",
       "      <td>2.50</td>\n",
       "      <td>3.0000</td>\n",
       "      <td>3.25</td>\n",
       "      <td>3.50</td>\n",
       "      <td>3.5</td>\n",
       "    </tr>\n",
       "  </tbody>\n",
       "</table>\n",
       "</div>"
      ],
      "text/plain": [
       "             count      mean       std   min     25%   50%   75%  max\n",
       "review_date                                                          \n",
       "2006          60.0  3.062500  0.660035  1.50  2.7500  3.00  3.75  4.0\n",
       "2007          69.0  3.166667  0.598200  1.00  3.0000  3.00  3.50  4.0\n",
       "2008          84.0  3.038690  0.494692  1.50  2.7500  3.00  3.50  4.0\n",
       "2009         113.0  3.088496  0.439308  1.75  2.7500  3.00  3.50  4.0\n",
       "2010          94.0  3.188830  0.431748  2.00  2.7500  3.25  3.50  4.0\n",
       "2011         153.0  3.271242  0.475508  1.50  3.0000  3.25  3.50  4.0\n",
       "2012         180.0  3.206944  0.464396  1.50  3.0000  3.25  3.50  4.0\n",
       "2013         178.0  3.214888  0.430760  2.25  2.8125  3.25  3.50  4.0\n",
       "2014         243.0  3.197531  0.409184  2.25  3.0000  3.25  3.50  4.0\n",
       "2015         280.0  3.243750  0.382416  2.00  3.0000  3.25  3.50  4.0\n",
       "2016         215.0  3.236047  0.415574  2.00  3.0000  3.25  3.50  4.0\n",
       "2017         102.0  3.362745  0.347600  2.50  3.2500  3.50  3.50  4.0\n",
       "2018         225.0  3.191556  0.388328  2.00  3.0000  3.25  3.50  4.0\n",
       "2019         195.0  3.133333  0.375014  2.25  3.0000  3.00  3.50  4.0\n",
       "2020          33.0  3.159091  0.285168  2.50  3.0000  3.25  3.50  3.5"
      ]
     },
     "execution_count": 9,
     "metadata": {},
     "output_type": "execute_result"
    }
   ],
   "source": [
    "date_group=df_nona.groupby('review_date')#按照时间分组\n",
    "date_group['rating'].describe()"
   ]
  },
  {
   "cell_type": "markdown",
   "metadata": {
    "id": "129A95B798D34694B8ED4BDCC949F124",
    "jupyter": {},
    "notebookId": "66a75485b804a65ef51227c5",
    "runtime": {
     "execution_status": null,
     "is_visible": false,
     "status": "default"
    },
    "scrolled": false,
    "slideshow": {
     "slide_type": "slide"
    },
    "tags": []
   },
   "source": [
    "#### 分析 1  \n",
    "1. 2020年的数据与其它年份相比，参赛总数爆冷，评分最高也只到3.5  \n",
    "2. 除该年外，其它年份的数据中，参赛总数整体呈现上升趋势，说明对巧克力越来越热衷  \n",
    "3. 方差逐渐变小，说明数据更集中了  \n",
    "4. 最小值和中位数呈现上升趋势，说明巧克力的整体品质有提升"
   ]
  },
  {
   "cell_type": "code",
   "execution_count": 10,
   "metadata": {
    "collapsed": false,
    "id": "CEA1FA1267FF44C18064E662FD609334",
    "jupyter": {
     "outputs_hidden": false
    },
    "notebookId": "66a75485b804a65ef51227c5",
    "slideshow": {
     "slide_type": "slide"
    },
    "tags": []
   },
   "outputs": [
    {
     "data": {
      "text/plain": [
       "<BarContainer object of 15 artists>"
      ]
     },
     "execution_count": 10,
     "metadata": {},
     "output_type": "execute_result"
    },
    {
     "data": {
      "text/html": [
       "<img src=\"https://cdn.kesci.com/upload/rt/CEA1FA1267FF44C18064E662FD609334/shshaeihwm.png\">"
      ],
      "text/plain": [
       "<Figure size 720x432 with 1 Axes>"
      ]
     },
     "metadata": {
      "needs_background": "light"
     },
     "output_type": "display_data"
    }
   ],
   "source": [
    "df_date=df_nona['review_date'].value_counts().reset_index()\n",
    "\n",
    "#创建柱状图\n",
    "fig, ax = plt.subplots(figsize=(10,6))\n",
    "ax.bar(df_date['index'], df_date['review_date'])\n"
   ]
  },
  {
   "cell_type": "markdown",
   "metadata": {
    "id": "51F08D4AEE49449CB43B5DB89292479F",
    "jupyter": {},
    "notebookId": "66a75485b804a65ef51227c5",
    "runtime": {
     "execution_status": null,
     "is_visible": false,
     "status": "default"
    },
    "scrolled": false,
    "slideshow": {
     "slide_type": "slide"
    },
    "tags": []
   },
   "source": [
    "#### 分析 2  \n",
    "1. 参赛产品数量整体攀升，在2015年达到顶峰"
   ]
  },
  {
   "cell_type": "markdown",
   "metadata": {
    "id": "C322F3F97AD44B839853EEAAD92341A9",
    "jupyter": {},
    "notebookId": "66a75485b804a65ef51227c5",
    "runtime": {
     "execution_status": null,
     "is_visible": false,
     "status": "default"
    },
    "scrolled": false,
    "slideshow": {
     "slide_type": "slide"
    },
    "tags": []
   },
   "source": [
    "### 三、分析“冠军”和“不及格”巧克力有哪些口感特征"
   ]
  },
  {
   "cell_type": "code",
   "execution_count": 11,
   "metadata": {
    "collapsed": false,
    "id": "3060CEF5BC71467FA57D0554FD389C8F",
    "jupyter": {
     "outputs_hidden": false
    },
    "notebookId": "66a75485b804a65ef51227c5",
    "slideshow": {
     "slide_type": "slide"
    },
    "tags": []
   },
   "outputs": [
    {
     "data": {
      "text/html": [
       "<div>\n",
       "<style scoped>\n",
       "    .dataframe tbody tr th:only-of-type {\n",
       "        vertical-align: middle;\n",
       "    }\n",
       "\n",
       "    .dataframe tbody tr th {\n",
       "        vertical-align: top;\n",
       "    }\n",
       "\n",
       "    .dataframe thead th {\n",
       "        text-align: right;\n",
       "    }\n",
       "</style>\n",
       "<table border=\"1\" class=\"dataframe\">\n",
       "  <thead>\n",
       "    <tr style=\"text-align: right;\">\n",
       "      <th></th>\n",
       "      <th></th>\n",
       "      <th>company</th>\n",
       "      <th>company_location</th>\n",
       "      <th>review_date</th>\n",
       "      <th>country_of_bean_origin</th>\n",
       "      <th>specific_bean_origin_or_bar_name</th>\n",
       "      <th>cocoa_percent</th>\n",
       "      <th>rating</th>\n",
       "      <th>counts_of_ingredients</th>\n",
       "      <th>cocoa_butter</th>\n",
       "      <th>vanilla</th>\n",
       "      <th>lecithin</th>\n",
       "      <th>salt</th>\n",
       "      <th>sugar</th>\n",
       "      <th>sweetener_without_sugar</th>\n",
       "      <th>first_taste</th>\n",
       "      <th>second_taste</th>\n",
       "      <th>third_taste</th>\n",
       "      <th>fourth_taste</th>\n",
       "      <th>taste</th>\n",
       "      <th>content</th>\n",
       "    </tr>\n",
       "    <tr>\n",
       "      <th>review_date</th>\n",
       "      <th></th>\n",
       "      <th></th>\n",
       "      <th></th>\n",
       "      <th></th>\n",
       "      <th></th>\n",
       "      <th></th>\n",
       "      <th></th>\n",
       "      <th></th>\n",
       "      <th></th>\n",
       "      <th></th>\n",
       "      <th></th>\n",
       "      <th></th>\n",
       "      <th></th>\n",
       "      <th></th>\n",
       "      <th></th>\n",
       "      <th></th>\n",
       "      <th></th>\n",
       "      <th></th>\n",
       "      <th></th>\n",
       "      <th></th>\n",
       "      <th></th>\n",
       "    </tr>\n",
       "  </thead>\n",
       "  <tbody>\n",
       "    <tr>\n",
       "      <th rowspan=\"5\" valign=\"top\">2006</th>\n",
       "      <th>660</th>\n",
       "      <td>Dolfin (Belcolade)</td>\n",
       "      <td>Belgium</td>\n",
       "      <td>2006</td>\n",
       "      <td>Blend</td>\n",
       "      <td>Noir</td>\n",
       "      <td>70.0</td>\n",
       "      <td>1.50</td>\n",
       "      <td>3</td>\n",
       "      <td>0</td>\n",
       "      <td>0</td>\n",
       "      <td>1</td>\n",
       "      <td>0</td>\n",
       "      <td>1</td>\n",
       "      <td>0</td>\n",
       "      <td>acidic</td>\n",
       "      <td>astringent</td>\n",
       "      <td>unpleasant</td>\n",
       "      <td></td>\n",
       "      <td>acidic astringent unpleasant</td>\n",
       "      <td>001010</td>\n",
       "    </tr>\n",
       "    <tr>\n",
       "      <th>727</th>\n",
       "      <td>El Rey</td>\n",
       "      <td>Venezuela</td>\n",
       "      <td>2006</td>\n",
       "      <td>Venezuela</td>\n",
       "      <td>Carenero Superior, Gran Saman</td>\n",
       "      <td>70.0</td>\n",
       "      <td>2.75</td>\n",
       "      <td>5</td>\n",
       "      <td>1</td>\n",
       "      <td>1</td>\n",
       "      <td>1</td>\n",
       "      <td>0</td>\n",
       "      <td>1</td>\n",
       "      <td>0</td>\n",
       "      <td>gritty</td>\n",
       "      <td>chalky</td>\n",
       "      <td>earthy</td>\n",
       "      <td>sour</td>\n",
       "      <td>gritty chalky earthy sour</td>\n",
       "      <td>111010</td>\n",
       "    </tr>\n",
       "    <tr>\n",
       "      <th>775</th>\n",
       "      <td>Felchlin</td>\n",
       "      <td>Switzerland</td>\n",
       "      <td>2006</td>\n",
       "      <td>Blend</td>\n",
       "      <td>Supremo- SF</td>\n",
       "      <td>62.0</td>\n",
       "      <td>2.00</td>\n",
       "      <td>5</td>\n",
       "      <td>1</td>\n",
       "      <td>1</td>\n",
       "      <td>1</td>\n",
       "      <td>0</td>\n",
       "      <td>1</td>\n",
       "      <td>0</td>\n",
       "      <td>malitol</td>\n",
       "      <td>cocoa</td>\n",
       "      <td></td>\n",
       "      <td></td>\n",
       "      <td>malitol cocoa</td>\n",
       "      <td>111010</td>\n",
       "    </tr>\n",
       "    <tr>\n",
       "      <th>938</th>\n",
       "      <td>Green &amp; Black's (ICAM)</td>\n",
       "      <td>U.k.</td>\n",
       "      <td>2006</td>\n",
       "      <td>Blend</td>\n",
       "      <td>Dark</td>\n",
       "      <td>70.0</td>\n",
       "      <td>2.50</td>\n",
       "      <td>5</td>\n",
       "      <td>1</td>\n",
       "      <td>1</td>\n",
       "      <td>1</td>\n",
       "      <td>0</td>\n",
       "      <td>1</td>\n",
       "      <td>0</td>\n",
       "      <td>mildly rich</td>\n",
       "      <td>basic</td>\n",
       "      <td>roasty</td>\n",
       "      <td></td>\n",
       "      <td>mildly rich basic roasty</td>\n",
       "      <td>111010</td>\n",
       "    </tr>\n",
       "    <tr>\n",
       "      <th>955</th>\n",
       "      <td>Guittard</td>\n",
       "      <td>U.S.A</td>\n",
       "      <td>2006</td>\n",
       "      <td>Venezuela</td>\n",
       "      <td>Sur del Lago</td>\n",
       "      <td>65.0</td>\n",
       "      <td>2.50</td>\n",
       "      <td>5</td>\n",
       "      <td>1</td>\n",
       "      <td>1</td>\n",
       "      <td>1</td>\n",
       "      <td>0</td>\n",
       "      <td>1</td>\n",
       "      <td>0</td>\n",
       "      <td>sweet</td>\n",
       "      <td>creamy</td>\n",
       "      <td>vanilla</td>\n",
       "      <td></td>\n",
       "      <td>sweet creamy vanilla</td>\n",
       "      <td>111010</td>\n",
       "    </tr>\n",
       "  </tbody>\n",
       "</table>\n",
       "</div>"
      ],
      "text/plain": [
       "                                company company_location  review_date  \\\n",
       "review_date                                                             \n",
       "2006        660      Dolfin (Belcolade)          Belgium         2006   \n",
       "            727                  El Rey        Venezuela         2006   \n",
       "            775                Felchlin      Switzerland         2006   \n",
       "            938  Green & Black's (ICAM)             U.k.         2006   \n",
       "            955                Guittard            U.S.A         2006   \n",
       "\n",
       "                country_of_bean_origin specific_bean_origin_or_bar_name  \\\n",
       "review_date                                                               \n",
       "2006        660                  Blend                             Noir   \n",
       "            727              Venezuela    Carenero Superior, Gran Saman   \n",
       "            775                  Blend                      Supremo- SF   \n",
       "            938                  Blend                             Dark   \n",
       "            955              Venezuela                     Sur del Lago   \n",
       "\n",
       "                 cocoa_percent  rating  counts_of_ingredients cocoa_butter  \\\n",
       "review_date                                                                  \n",
       "2006        660           70.0    1.50                      3            0   \n",
       "            727           70.0    2.75                      5            1   \n",
       "            775           62.0    2.00                      5            1   \n",
       "            938           70.0    2.50                      5            1   \n",
       "            955           65.0    2.50                      5            1   \n",
       "\n",
       "                vanilla lecithin salt sugar sweetener_without_sugar  \\\n",
       "review_date                                                           \n",
       "2006        660       0        1    0     1                       0   \n",
       "            727       1        1    0     1                       0   \n",
       "            775       1        1    0     1                       0   \n",
       "            938       1        1    0     1                       0   \n",
       "            955       1        1    0     1                       0   \n",
       "\n",
       "                 first_taste second_taste third_taste fourth_taste  \\\n",
       "review_date                                                          \n",
       "2006        660       acidic   astringent  unpleasant                \n",
       "            727       gritty       chalky      earthy         sour   \n",
       "            775      malitol        cocoa                            \n",
       "            938  mildly rich        basic      roasty                \n",
       "            955        sweet       creamy     vanilla                \n",
       "\n",
       "                                         taste content  \n",
       "review_date                                             \n",
       "2006        660  acidic astringent unpleasant   001010  \n",
       "            727      gritty chalky earthy sour  111010  \n",
       "            775                malitol cocoa    111010  \n",
       "            938      mildly rich basic roasty   111010  \n",
       "            955          sweet creamy vanilla   111010  "
      ]
     },
     "execution_count": 11,
     "metadata": {},
     "output_type": "execute_result"
    }
   ],
   "source": [
    "#新建两个函数，分别获取当年中评分最高的“冠军”巧克力产品，和不及格的产品，用于分别分析\n",
    "def top(df, column='rating'):\n",
    "    return df[df['rating']==df['rating'].max()]\n",
    "\n",
    "def floor(df, column='rating'):\n",
    "    return df[df['rating']<3]\n",
    "\n",
    "df_top=date_group.apply(top)#查看每年的冠军数据\n",
    "df_floor=date_group.apply(floor)#查看每年不及格数据（小于3分）\n",
    "df_floor.head(5)"
   ]
  },
  {
   "cell_type": "markdown",
   "metadata": {
    "id": "06912FE759FC49FB8A674529D15C12AB",
    "jupyter": {},
    "notebookId": "66a75485b804a65ef51227c5",
    "runtime": {
     "execution_status": null,
     "is_visible": false,
     "status": "default"
    },
    "scrolled": false,
    "slideshow": {
     "slide_type": "slide"
    },
    "tags": []
   },
   "source": []
  },
  {
   "cell_type": "code",
   "execution_count": 12,
   "metadata": {
    "collapsed": false,
    "id": "DCB978A405664FF5A3A5C6534570795B",
    "jupyter": {
     "outputs_hidden": false
    },
    "notebookId": "66a75485b804a65ef51227c5",
    "scrolled": true,
    "slideshow": {
     "slide_type": "slide"
    },
    "tags": []
   },
   "outputs": [
    {
     "data": {
      "text/plain": [
       "[<matplotlib.lines.Line2D at 0x7f8ec4f52f28>]"
      ]
     },
     "execution_count": 12,
     "metadata": {},
     "output_type": "execute_result"
    },
    {
     "data": {
      "text/html": [
       "<img src=\"https://cdn.kesci.com/upload/rt/DCB978A405664FF5A3A5C6534570795B/shshaey23a.png\">"
      ],
      "text/plain": [
       "<Figure size 1440x360 with 1 Axes>"
      ]
     },
     "metadata": {
      "needs_background": "light"
     },
     "output_type": "display_data"
    }
   ],
   "source": [
    "#查看在“冠军”巧克力里，哪些提到的口味相关的词语最多\n",
    "concat_df=pd.concat([df_top['first_taste'],df_top['second_taste'],df_top['third_taste'],df_top['fourth_taste']])\n",
    "concat_df=(concat_df).value_counts().head(20)\n",
    "concat_df=concat_df[concat_df.index!='']\n",
    "#绘制折线图\n",
    "plt.figure(figsize=(20,5))\n",
    "plt.plot(concat_df)\n"
   ]
  },
  {
   "cell_type": "markdown",
   "metadata": {
    "id": "FC11775CD77143B991AA857D8CB46886",
    "jupyter": {},
    "notebookId": "66a75485b804a65ef51227c5",
    "runtime": {
     "execution_status": null,
     "is_visible": false,
     "status": "default"
    },
    "scrolled": false,
    "slideshow": {
     "slide_type": "slide"
    },
    "tags": []
   },
   "source": [
    "#### 分析 3  \n",
    "1. 在每年拿到最高分的巧克力中，taste描述中出现次数最多的三个词语明显高于其它词语，分别是creamy、cocoa、nutty"
   ]
  },
  {
   "cell_type": "code",
   "execution_count": 13,
   "metadata": {
    "collapsed": false,
    "id": "5FB571BE2742426296D0774565577E7F",
    "jupyter": {
     "outputs_hidden": false
    },
    "notebookId": "66a75485b804a65ef51227c5",
    "slideshow": {
     "slide_type": "slide"
    },
    "tags": []
   },
   "outputs": [
    {
     "data": {
      "text/html": [
       "<img src=\"https://cdn.kesci.com/upload/rt/5FB571BE2742426296D0774565577E7F/shshae62cv.png\">"
      ],
      "text/plain": [
       "<Figure size 720x432 with 1 Axes>"
      ]
     },
     "metadata": {
      "needs_background": "light"
     },
     "output_type": "display_data"
    }
   ],
   "source": [
    "from wordcloud import WordCloud\n",
    "text=' '.join(df_top['taste'])\n",
    "\n",
    "wordcloud = WordCloud().generate(text)\n",
    "plt.figure(figsize=(10,6))\n",
    "plt.imshow(wordcloud, interpolation='bilinear')\n",
    "plt.axis(\"off\")\n",
    "plt.show()"
   ]
  },
  {
   "cell_type": "code",
   "execution_count": 14,
   "metadata": {
    "collapsed": false,
    "id": "19C236C2ED704488B61A1D240F2555B7",
    "jupyter": {
     "outputs_hidden": false
    },
    "notebookId": "66a75485b804a65ef51227c5",
    "slideshow": {
     "slide_type": "slide"
    },
    "tags": []
   },
   "outputs": [
    {
     "data": {
      "text/html": [
       "<div>\n",
       "<style scoped>\n",
       "    .dataframe tbody tr th:only-of-type {\n",
       "        vertical-align: middle;\n",
       "    }\n",
       "\n",
       "    .dataframe tbody tr th {\n",
       "        vertical-align: top;\n",
       "    }\n",
       "\n",
       "    .dataframe thead th {\n",
       "        text-align: right;\n",
       "    }\n",
       "</style>\n",
       "<table border=\"1\" class=\"dataframe\">\n",
       "  <thead>\n",
       "    <tr style=\"text-align: right;\">\n",
       "      <th></th>\n",
       "      <th>index</th>\n",
       "      <th>rating</th>\n",
       "      <th>cum_percent</th>\n",
       "      <th>percent</th>\n",
       "    </tr>\n",
       "  </thead>\n",
       "  <tbody>\n",
       "    <tr>\n",
       "      <th>0</th>\n",
       "      <td>4.00</td>\n",
       "      <td>36</td>\n",
       "      <td>19.565217</td>\n",
       "      <td>19.565217</td>\n",
       "    </tr>\n",
       "    <tr>\n",
       "      <th>1</th>\n",
       "      <td>3.75</td>\n",
       "      <td>44</td>\n",
       "      <td>43.478261</td>\n",
       "      <td>23.913043</td>\n",
       "    </tr>\n",
       "    <tr>\n",
       "      <th>2</th>\n",
       "      <td>3.50</td>\n",
       "      <td>39</td>\n",
       "      <td>64.673913</td>\n",
       "      <td>21.195652</td>\n",
       "    </tr>\n",
       "    <tr>\n",
       "      <th>3</th>\n",
       "      <td>3.25</td>\n",
       "      <td>23</td>\n",
       "      <td>77.173913</td>\n",
       "      <td>12.500000</td>\n",
       "    </tr>\n",
       "    <tr>\n",
       "      <th>4</th>\n",
       "      <td>3.00</td>\n",
       "      <td>27</td>\n",
       "      <td>91.847826</td>\n",
       "      <td>14.673913</td>\n",
       "    </tr>\n",
       "    <tr>\n",
       "      <th>5</th>\n",
       "      <td>2.75</td>\n",
       "      <td>12</td>\n",
       "      <td>98.369565</td>\n",
       "      <td>6.521739</td>\n",
       "    </tr>\n",
       "    <tr>\n",
       "      <th>6</th>\n",
       "      <td>2.50</td>\n",
       "      <td>1</td>\n",
       "      <td>98.913043</td>\n",
       "      <td>0.543478</td>\n",
       "    </tr>\n",
       "    <tr>\n",
       "      <th>7</th>\n",
       "      <td>2.00</td>\n",
       "      <td>1</td>\n",
       "      <td>99.456522</td>\n",
       "      <td>0.543478</td>\n",
       "    </tr>\n",
       "    <tr>\n",
       "      <th>8</th>\n",
       "      <td>1.50</td>\n",
       "      <td>1</td>\n",
       "      <td>100.000000</td>\n",
       "      <td>0.543478</td>\n",
       "    </tr>\n",
       "  </tbody>\n",
       "</table>\n",
       "</div>"
      ],
      "text/plain": [
       "   index  rating  cum_percent    percent\n",
       "0   4.00      36    19.565217  19.565217\n",
       "1   3.75      44    43.478261  23.913043\n",
       "2   3.50      39    64.673913  21.195652\n",
       "3   3.25      23    77.173913  12.500000\n",
       "4   3.00      27    91.847826  14.673913\n",
       "5   2.75      12    98.369565   6.521739\n",
       "6   2.50       1    98.913043   0.543478\n",
       "7   2.00       1    99.456522   0.543478\n",
       "8   1.50       1   100.000000   0.543478"
      ]
     },
     "execution_count": 14,
     "metadata": {},
     "output_type": "execute_result"
    }
   ],
   "source": [
    "#分别查看三个词语在所有参赛数据中的出现次数，以及相关占比\n",
    "df_good=df_nona[df_nona['taste'].str.contains('creamy')]['rating'].value_counts().sort_index('index',ascending=False).reset_index()\n",
    "df_good['cum_percent']=df_good['rating'].cumsum()/df_good['rating'].sum()*100\n",
    "df_good['percent']=df_good['rating']/df_good['rating'].sum()*100\n",
    "df_good"
   ]
  },
  {
   "cell_type": "code",
   "execution_count": 15,
   "metadata": {
    "collapsed": false,
    "id": "2F772A1D1AC6449D849E3DD9030A38C7",
    "jupyter": {
     "outputs_hidden": false
    },
    "notebookId": "66a75485b804a65ef51227c5",
    "slideshow": {
     "slide_type": "slide"
    },
    "tags": []
   },
   "outputs": [
    {
     "data": {
      "text/html": [
       "<div>\n",
       "<style scoped>\n",
       "    .dataframe tbody tr th:only-of-type {\n",
       "        vertical-align: middle;\n",
       "    }\n",
       "\n",
       "    .dataframe tbody tr th {\n",
       "        vertical-align: top;\n",
       "    }\n",
       "\n",
       "    .dataframe thead th {\n",
       "        text-align: right;\n",
       "    }\n",
       "</style>\n",
       "<table border=\"1\" class=\"dataframe\">\n",
       "  <thead>\n",
       "    <tr style=\"text-align: right;\">\n",
       "      <th></th>\n",
       "      <th>index</th>\n",
       "      <th>rating</th>\n",
       "      <th>cum_percent</th>\n",
       "      <th>percent</th>\n",
       "    </tr>\n",
       "  </thead>\n",
       "  <tbody>\n",
       "    <tr>\n",
       "      <th>0</th>\n",
       "      <td>4.00</td>\n",
       "      <td>26</td>\n",
       "      <td>10.116732</td>\n",
       "      <td>10.116732</td>\n",
       "    </tr>\n",
       "    <tr>\n",
       "      <th>1</th>\n",
       "      <td>3.75</td>\n",
       "      <td>46</td>\n",
       "      <td>28.015564</td>\n",
       "      <td>17.898833</td>\n",
       "    </tr>\n",
       "    <tr>\n",
       "      <th>2</th>\n",
       "      <td>3.50</td>\n",
       "      <td>73</td>\n",
       "      <td>56.420233</td>\n",
       "      <td>28.404669</td>\n",
       "    </tr>\n",
       "    <tr>\n",
       "      <th>3</th>\n",
       "      <td>3.25</td>\n",
       "      <td>43</td>\n",
       "      <td>73.151751</td>\n",
       "      <td>16.731518</td>\n",
       "    </tr>\n",
       "    <tr>\n",
       "      <th>4</th>\n",
       "      <td>3.00</td>\n",
       "      <td>45</td>\n",
       "      <td>90.661479</td>\n",
       "      <td>17.509728</td>\n",
       "    </tr>\n",
       "    <tr>\n",
       "      <th>5</th>\n",
       "      <td>2.75</td>\n",
       "      <td>19</td>\n",
       "      <td>98.054475</td>\n",
       "      <td>7.392996</td>\n",
       "    </tr>\n",
       "    <tr>\n",
       "      <th>6</th>\n",
       "      <td>2.50</td>\n",
       "      <td>2</td>\n",
       "      <td>98.832685</td>\n",
       "      <td>0.778210</td>\n",
       "    </tr>\n",
       "    <tr>\n",
       "      <th>7</th>\n",
       "      <td>2.00</td>\n",
       "      <td>2</td>\n",
       "      <td>99.610895</td>\n",
       "      <td>0.778210</td>\n",
       "    </tr>\n",
       "    <tr>\n",
       "      <th>8</th>\n",
       "      <td>1.75</td>\n",
       "      <td>1</td>\n",
       "      <td>100.000000</td>\n",
       "      <td>0.389105</td>\n",
       "    </tr>\n",
       "  </tbody>\n",
       "</table>\n",
       "</div>"
      ],
      "text/plain": [
       "   index  rating  cum_percent    percent\n",
       "0   4.00      26    10.116732  10.116732\n",
       "1   3.75      46    28.015564  17.898833\n",
       "2   3.50      73    56.420233  28.404669\n",
       "3   3.25      43    73.151751  16.731518\n",
       "4   3.00      45    90.661479  17.509728\n",
       "5   2.75      19    98.054475   7.392996\n",
       "6   2.50       2    98.832685   0.778210\n",
       "7   2.00       2    99.610895   0.778210\n",
       "8   1.75       1   100.000000   0.389105"
      ]
     },
     "execution_count": 15,
     "metadata": {},
     "output_type": "execute_result"
    }
   ],
   "source": [
    "df_good=df_nona[df_nona['taste'].str.contains('cocoa')]['rating'].value_counts().sort_index('index',ascending=False).reset_index()\n",
    "df_good['cum_percent']=df_good['rating'].cumsum()/df_good['rating'].sum()*100\n",
    "df_good['percent']=df_good['rating']/df_good['rating'].sum()*100\n",
    "df_good"
   ]
  },
  {
   "cell_type": "code",
   "execution_count": 16,
   "metadata": {
    "collapsed": false,
    "id": "E6895C1FE6A547659D2BF5AC0A9F94A0",
    "jupyter": {
     "outputs_hidden": false
    },
    "notebookId": "66a75485b804a65ef51227c5",
    "slideshow": {
     "slide_type": "slide"
    },
    "tags": []
   },
   "outputs": [
    {
     "data": {
      "text/html": [
       "<div>\n",
       "<style scoped>\n",
       "    .dataframe tbody tr th:only-of-type {\n",
       "        vertical-align: middle;\n",
       "    }\n",
       "\n",
       "    .dataframe tbody tr th {\n",
       "        vertical-align: top;\n",
       "    }\n",
       "\n",
       "    .dataframe thead th {\n",
       "        text-align: right;\n",
       "    }\n",
       "</style>\n",
       "<table border=\"1\" class=\"dataframe\">\n",
       "  <thead>\n",
       "    <tr style=\"text-align: right;\">\n",
       "      <th></th>\n",
       "      <th>index</th>\n",
       "      <th>rating</th>\n",
       "      <th>cum_percent</th>\n",
       "      <th>percent</th>\n",
       "    </tr>\n",
       "  </thead>\n",
       "  <tbody>\n",
       "    <tr>\n",
       "      <th>0</th>\n",
       "      <td>4.00</td>\n",
       "      <td>17</td>\n",
       "      <td>6.719368</td>\n",
       "      <td>6.719368</td>\n",
       "    </tr>\n",
       "    <tr>\n",
       "      <th>1</th>\n",
       "      <td>3.75</td>\n",
       "      <td>35</td>\n",
       "      <td>20.553360</td>\n",
       "      <td>13.833992</td>\n",
       "    </tr>\n",
       "    <tr>\n",
       "      <th>2</th>\n",
       "      <td>3.50</td>\n",
       "      <td>61</td>\n",
       "      <td>44.664032</td>\n",
       "      <td>24.110672</td>\n",
       "    </tr>\n",
       "    <tr>\n",
       "      <th>3</th>\n",
       "      <td>3.25</td>\n",
       "      <td>47</td>\n",
       "      <td>63.241107</td>\n",
       "      <td>18.577075</td>\n",
       "    </tr>\n",
       "    <tr>\n",
       "      <th>4</th>\n",
       "      <td>3.00</td>\n",
       "      <td>54</td>\n",
       "      <td>84.584980</td>\n",
       "      <td>21.343874</td>\n",
       "    </tr>\n",
       "    <tr>\n",
       "      <th>5</th>\n",
       "      <td>2.75</td>\n",
       "      <td>31</td>\n",
       "      <td>96.837945</td>\n",
       "      <td>12.252964</td>\n",
       "    </tr>\n",
       "    <tr>\n",
       "      <th>6</th>\n",
       "      <td>2.50</td>\n",
       "      <td>7</td>\n",
       "      <td>99.604743</td>\n",
       "      <td>2.766798</td>\n",
       "    </tr>\n",
       "    <tr>\n",
       "      <th>7</th>\n",
       "      <td>2.25</td>\n",
       "      <td>1</td>\n",
       "      <td>100.000000</td>\n",
       "      <td>0.395257</td>\n",
       "    </tr>\n",
       "  </tbody>\n",
       "</table>\n",
       "</div>"
      ],
      "text/plain": [
       "   index  rating  cum_percent    percent\n",
       "0   4.00      17     6.719368   6.719368\n",
       "1   3.75      35    20.553360  13.833992\n",
       "2   3.50      61    44.664032  24.110672\n",
       "3   3.25      47    63.241107  18.577075\n",
       "4   3.00      54    84.584980  21.343874\n",
       "5   2.75      31    96.837945  12.252964\n",
       "6   2.50       7    99.604743   2.766798\n",
       "7   2.25       1   100.000000   0.395257"
      ]
     },
     "execution_count": 16,
     "metadata": {},
     "output_type": "execute_result"
    }
   ],
   "source": [
    "df_good=df_nona[df_nona['taste'].str.contains('nutty')]['rating'].value_counts().sort_index('index',ascending=False).reset_index()\n",
    "df_good['cum_percent']=df_good['rating'].cumsum()/df_good['rating'].sum()*100\n",
    "df_good['percent']=df_good['rating']/df_good['rating'].sum()*100\n",
    "df_good"
   ]
  },
  {
   "cell_type": "markdown",
   "metadata": {
    "id": "C6DE8503C94B41CEA8AFB3FFAB2C1A9C",
    "jupyter": {},
    "notebookId": "66a75485b804a65ef51227c5",
    "runtime": {
     "execution_status": null,
     "is_visible": false,
     "status": "default"
    },
    "scrolled": false,
    "slideshow": {
     "slide_type": "slide"
    },
    "tags": []
   },
   "source": [
    "#### 分析 4  \n",
    "1. 分别查看三个词语出现的参赛数据，rating的分布情况，大部分的评分都集中在3到3.75之间  \n",
    "2. 从累计百分比也可以看到80%-90%的数据都是在及格分（3分）以上的  \n",
    "3. 如果评委给出这样的评价，几乎代表着属于高品质的巧克力，有望冲击冠军巧克力了，这是评委喜爱的口感"
   ]
  },
  {
   "cell_type": "markdown",
   "metadata": {
    "id": "31E87147912A4B97912634E70966614F",
    "jupyter": {},
    "notebookId": "66a75485b804a65ef51227c5",
    "runtime": {
     "execution_status": null,
     "is_visible": false,
     "status": "default"
    },
    "scrolled": false,
    "slideshow": {
     "slide_type": "slide"
    },
    "tags": []
   },
   "source": [
    "#### 同上，分析下不及格的taste频次"
   ]
  },
  {
   "cell_type": "code",
   "execution_count": 17,
   "metadata": {
    "collapsed": false,
    "id": "23FA7DAF4CBB4D54BEE1CE97089850E7",
    "jupyter": {
     "outputs_hidden": false
    },
    "notebookId": "66a75485b804a65ef51227c5",
    "slideshow": {
     "slide_type": "slide"
    },
    "tags": []
   },
   "outputs": [
    {
     "data": {
      "text/plain": [
       "(0, 86.2)"
      ]
     },
     "execution_count": 17,
     "metadata": {},
     "output_type": "execute_result"
    },
    {
     "data": {
      "text/html": [
       "<img src=\"https://cdn.kesci.com/upload/rt/23FA7DAF4CBB4D54BEE1CE97089850E7/shshael22p.png\">"
      ],
      "text/plain": [
       "<Figure size 1440x360 with 1 Axes>"
      ]
     },
     "metadata": {
      "needs_background": "light"
     },
     "output_type": "display_data"
    }
   ],
   "source": [
    "concat_df=pd.concat([df_floor['first_taste'],df_floor['second_taste'],df_floor['third_taste'],df_floor['fourth_taste']])\n",
    "concat_df=(concat_df).value_counts().head(20)\n",
    "concat_df=concat_df[concat_df.index!='']\n",
    "plt.figure(figsize=(20,5))\n",
    "plt.plot(concat_df)\n",
    "plt.ylim(0,)\n"
   ]
  },
  {
   "cell_type": "markdown",
   "metadata": {
    "id": "D3F1A73B2C0C49BCB90384E567E66A37",
    "jupyter": {},
    "notebookId": "66a75485b804a65ef51227c5",
    "runtime": {
     "execution_status": null,
     "is_visible": false,
     "status": "default"
    },
    "scrolled": false,
    "slideshow": {
     "slide_type": "slide"
    },
    "tags": []
   },
   "source": [
    "#### 分析 5  \n",
    "1. 在不及格的巧克力中排名前三的taste描述，出现频次明显高于其它词语，分别是sweet、earthy、sour"
   ]
  },
  {
   "cell_type": "code",
   "execution_count": 18,
   "metadata": {
    "collapsed": false,
    "id": "B996336EA8F74720AEE4F3F934DF05AB",
    "jupyter": {
     "outputs_hidden": false
    },
    "notebookId": "66a75485b804a65ef51227c5",
    "slideshow": {
     "slide_type": "slide"
    },
    "tags": []
   },
   "outputs": [
    {
     "data": {
      "text/html": [
       "<img src=\"https://cdn.kesci.com/upload/rt/B996336EA8F74720AEE4F3F934DF05AB/shshafjeq.png\">"
      ],
      "text/plain": [
       "<Figure size 720x432 with 1 Axes>"
      ]
     },
     "metadata": {
      "needs_background": "light"
     },
     "output_type": "display_data"
    }
   ],
   "source": [
    "from wordcloud import WordCloud\n",
    "text=' '.join(df_floor['taste'])\n",
    "\n",
    "wordcloud = WordCloud().generate(text)\n",
    "plt.figure(figsize=(10,6))\n",
    "plt.imshow(wordcloud, interpolation='bilinear')\n",
    "plt.axis(\"off\")\n",
    "plt.show()"
   ]
  },
  {
   "cell_type": "code",
   "execution_count": 19,
   "metadata": {
    "collapsed": false,
    "id": "09CA35CB3929485DA4BE4329C56E83A9",
    "jupyter": {
     "outputs_hidden": false
    },
    "notebookId": "66a75485b804a65ef51227c5",
    "slideshow": {
     "slide_type": "slide"
    },
    "tags": []
   },
   "outputs": [
    {
     "data": {
      "text/plain": [
       "[<matplotlib.lines.Line2D at 0x7f8ebb2ba198>]"
      ]
     },
     "execution_count": 19,
     "metadata": {},
     "output_type": "execute_result"
    },
    {
     "data": {
      "text/html": [
       "<img src=\"https://cdn.kesci.com/upload/rt/09CA35CB3929485DA4BE4329C56E83A9/shshafxwot.png\">"
      ],
      "text/plain": [
       "<Figure size 432x288 with 1 Axes>"
      ]
     },
     "metadata": {
      "needs_background": "light"
     },
     "output_type": "display_data"
    }
   ],
   "source": [
    "#分别查看三个词语在分数上的分布并绘制折线图观察\n",
    "df_bad=df_nona[df_nona['taste'].str.contains('sweet')]['rating'].value_counts().sort_index('index').reset_index()\n",
    "df_bad['percent']=df_bad['rating']/df_bad['rating'].sum()*100\n",
    "plt.plot(df_bad['index'],df_bad['rating'])\n"
   ]
  },
  {
   "cell_type": "code",
   "execution_count": 20,
   "metadata": {
    "collapsed": false,
    "id": "E535F14C7C754EC698CC9BA45AE2C90A",
    "jupyter": {
     "outputs_hidden": false
    },
    "notebookId": "66a75485b804a65ef51227c5",
    "slideshow": {
     "slide_type": "slide"
    },
    "tags": []
   },
   "outputs": [
    {
     "data": {
      "text/plain": [
       "[<matplotlib.lines.Line2D at 0x7f8ebb1b2748>]"
      ]
     },
     "execution_count": 20,
     "metadata": {},
     "output_type": "execute_result"
    },
    {
     "data": {
      "text/html": [
       "<img src=\"https://cdn.kesci.com/upload/rt/E535F14C7C754EC698CC9BA45AE2C90A/shshaf4kqx.png\">"
      ],
      "text/plain": [
       "<Figure size 432x288 with 1 Axes>"
      ]
     },
     "metadata": {
      "needs_background": "light"
     },
     "output_type": "display_data"
    }
   ],
   "source": [
    "df_bad=df_nona[df_nona['taste'].str.contains('earthy')]['rating'].value_counts().sort_index('index').reset_index()\n",
    "df_bad['percent']=df_bad['rating']/df_bad['rating'].sum()*100\n",
    "plt.plot(df_bad['index'],df_bad['rating'])\n"
   ]
  },
  {
   "cell_type": "code",
   "execution_count": 21,
   "metadata": {
    "collapsed": false,
    "id": "7F66D769AF044EB5BAEFB74E92052862",
    "jupyter": {
     "outputs_hidden": false
    },
    "notebookId": "66a75485b804a65ef51227c5",
    "slideshow": {
     "slide_type": "slide"
    },
    "tags": []
   },
   "outputs": [
    {
     "data": {
      "text/plain": [
       "[<matplotlib.lines.Line2D at 0x7f8ebb1945f8>]"
      ]
     },
     "execution_count": 21,
     "metadata": {},
     "output_type": "execute_result"
    },
    {
     "data": {
      "text/html": [
       "<img src=\"https://cdn.kesci.com/upload/rt/7F66D769AF044EB5BAEFB74E92052862/shshafea72.png\">"
      ],
      "text/plain": [
       "<Figure size 432x288 with 1 Axes>"
      ]
     },
     "metadata": {
      "needs_background": "light"
     },
     "output_type": "display_data"
    }
   ],
   "source": [
    "df_bad=df_nona[df_nona['taste'].str.contains('sour')]['rating'].value_counts().sort_index('index').reset_index()\n",
    "df_bad['percent']=df_bad['rating']/df_bad['rating'].sum()*100\n",
    "plt.plot(df_bad['index'],df_bad['rating'])\n"
   ]
  },
  {
   "cell_type": "markdown",
   "metadata": {
    "id": "F01C6643267248069CAF6CD63CEE9668",
    "jupyter": {},
    "notebookId": "66a75485b804a65ef51227c5",
    "runtime": {
     "execution_status": null,
     "is_visible": false,
     "status": "default"
    },
    "scrolled": false,
    "slideshow": {
     "slide_type": "slide"
    },
    "tags": []
   },
   "source": [
    "#### 分析 6  \n",
    "1. 分别查看三个词语出现的参赛数据，rating的分布情况，大部分的评分都集中在2.75到3.25之间，及格分上下  \n",
    "2. 如果评委给出这样的评价，可能代表着几乎无缘冲击高品质巧克力了，这并非是评委喜爱的口感"
   ]
  },
  {
   "cell_type": "markdown",
   "metadata": {
    "id": "7DB7D989D8B24382B87FC3B6F1E3EF7A",
    "jupyter": {},
    "notebookId": "66a75485b804a65ef51227c5",
    "runtime": {
     "execution_status": null,
     "is_visible": false,
     "status": "default"
    },
    "scrolled": false,
    "slideshow": {
     "slide_type": "slide"
    },
    "tags": []
   },
   "source": [
    "### 四、分析company字段"
   ]
  },
  {
   "cell_type": "code",
   "execution_count": 22,
   "metadata": {
    "collapsed": false,
    "id": "EE3ADB2A6C5B498D92F831596FE021BE",
    "jupyter": {
     "outputs_hidden": false
    },
    "notebookId": "66a75485b804a65ef51227c5",
    "slideshow": {
     "slide_type": "slide"
    },
    "tags": []
   },
   "outputs": [
    {
     "data": {
      "text/plain": [
       "(0, 60)"
      ]
     },
     "execution_count": 22,
     "metadata": {},
     "output_type": "execute_result"
    },
    {
     "data": {
      "text/html": [
       "<img src=\"https://cdn.kesci.com/upload/rt/EE3ADB2A6C5B498D92F831596FE021BE/shshafjdgv.png\">"
      ],
      "text/plain": [
       "<Figure size 720x360 with 1 Axes>"
      ]
     },
     "metadata": {
      "needs_background": "light"
     },
     "output_type": "display_data"
    }
   ],
   "source": [
    "df_com=df.groupby(['company'])['rating'].count().sort_values(ascending=False)\n",
    "df_com=df_com.head(10)\n",
    "plt.figure(figsize=(10,5))\n",
    "plt.plot(df_com)\n",
    "plt.text('Soma',df_com['Soma'],('Soma',df_com['Soma']))\n",
    "plt.ylim(0,60)\n"
   ]
  },
  {
   "cell_type": "markdown",
   "metadata": {
    "id": "8D7C4353C5804180B0365D188500DC3E",
    "jupyter": {},
    "notebookId": "66a75485b804a65ef51227c5",
    "runtime": {
     "execution_status": null,
     "is_visible": false,
     "status": "default"
    },
    "scrolled": false,
    "slideshow": {
     "slide_type": "slide"
    },
    "tags": []
   },
   "source": [
    "#### 分析 7  \n",
    "1. Soma公司参赛数量遥遥领先，参赛热情很高涨"
   ]
  },
  {
   "cell_type": "code",
   "execution_count": 23,
   "metadata": {
    "collapsed": false,
    "id": "F5E8368EB4034067B586ABF16E6CE009",
    "jupyter": {
     "outputs_hidden": false
    },
    "notebookId": "66a75485b804a65ef51227c5",
    "slideshow": {
     "slide_type": "slide"
    },
    "tags": []
   },
   "outputs": [
    {
     "data": {
      "text/html": [
       "<div>\n",
       "<style scoped>\n",
       "    .dataframe tbody tr th:only-of-type {\n",
       "        vertical-align: middle;\n",
       "    }\n",
       "\n",
       "    .dataframe tbody tr th {\n",
       "        vertical-align: top;\n",
       "    }\n",
       "\n",
       "    .dataframe thead th {\n",
       "        text-align: right;\n",
       "    }\n",
       "</style>\n",
       "<table border=\"1\" class=\"dataframe\">\n",
       "  <thead>\n",
       "    <tr style=\"text-align: right;\">\n",
       "      <th></th>\n",
       "      <th>count</th>\n",
       "      <th>mean</th>\n",
       "      <th>std</th>\n",
       "      <th>min</th>\n",
       "      <th>25%</th>\n",
       "      <th>50%</th>\n",
       "      <th>75%</th>\n",
       "      <th>max</th>\n",
       "    </tr>\n",
       "    <tr>\n",
       "      <th>review_date</th>\n",
       "      <th></th>\n",
       "      <th></th>\n",
       "      <th></th>\n",
       "      <th></th>\n",
       "      <th></th>\n",
       "      <th></th>\n",
       "      <th></th>\n",
       "      <th></th>\n",
       "    </tr>\n",
       "  </thead>\n",
       "  <tbody>\n",
       "    <tr>\n",
       "      <th>2009</th>\n",
       "      <td>6.0</td>\n",
       "      <td>3.416667</td>\n",
       "      <td>0.341565</td>\n",
       "      <td>3.00</td>\n",
       "      <td>3.1250</td>\n",
       "      <td>3.500</td>\n",
       "      <td>3.6875</td>\n",
       "      <td>3.75</td>\n",
       "    </tr>\n",
       "    <tr>\n",
       "      <th>2010</th>\n",
       "      <td>1.0</td>\n",
       "      <td>3.750000</td>\n",
       "      <td>NaN</td>\n",
       "      <td>3.75</td>\n",
       "      <td>3.7500</td>\n",
       "      <td>3.750</td>\n",
       "      <td>3.7500</td>\n",
       "      <td>3.75</td>\n",
       "    </tr>\n",
       "    <tr>\n",
       "      <th>2011</th>\n",
       "      <td>6.0</td>\n",
       "      <td>3.583333</td>\n",
       "      <td>0.465475</td>\n",
       "      <td>2.75</td>\n",
       "      <td>3.5000</td>\n",
       "      <td>3.625</td>\n",
       "      <td>3.9375</td>\n",
       "      <td>4.00</td>\n",
       "    </tr>\n",
       "    <tr>\n",
       "      <th>2012</th>\n",
       "      <td>8.0</td>\n",
       "      <td>3.656250</td>\n",
       "      <td>0.265165</td>\n",
       "      <td>3.25</td>\n",
       "      <td>3.5000</td>\n",
       "      <td>3.625</td>\n",
       "      <td>3.8125</td>\n",
       "      <td>4.00</td>\n",
       "    </tr>\n",
       "    <tr>\n",
       "      <th>2013</th>\n",
       "      <td>11.0</td>\n",
       "      <td>3.613636</td>\n",
       "      <td>0.423728</td>\n",
       "      <td>2.75</td>\n",
       "      <td>3.2500</td>\n",
       "      <td>3.750</td>\n",
       "      <td>4.0000</td>\n",
       "      <td>4.00</td>\n",
       "    </tr>\n",
       "    <tr>\n",
       "      <th>2014</th>\n",
       "      <td>6.0</td>\n",
       "      <td>3.500000</td>\n",
       "      <td>0.223607</td>\n",
       "      <td>3.25</td>\n",
       "      <td>3.3125</td>\n",
       "      <td>3.500</td>\n",
       "      <td>3.6875</td>\n",
       "      <td>3.75</td>\n",
       "    </tr>\n",
       "    <tr>\n",
       "      <th>2015</th>\n",
       "      <td>2.0</td>\n",
       "      <td>3.750000</td>\n",
       "      <td>0.353553</td>\n",
       "      <td>3.50</td>\n",
       "      <td>3.6250</td>\n",
       "      <td>3.750</td>\n",
       "      <td>3.8750</td>\n",
       "      <td>4.00</td>\n",
       "    </tr>\n",
       "    <tr>\n",
       "      <th>2016</th>\n",
       "      <td>7.0</td>\n",
       "      <td>3.607143</td>\n",
       "      <td>0.243975</td>\n",
       "      <td>3.25</td>\n",
       "      <td>3.5000</td>\n",
       "      <td>3.500</td>\n",
       "      <td>3.7500</td>\n",
       "      <td>4.00</td>\n",
       "    </tr>\n",
       "    <tr>\n",
       "      <th>2017</th>\n",
       "      <td>2.0</td>\n",
       "      <td>3.625000</td>\n",
       "      <td>0.530330</td>\n",
       "      <td>3.25</td>\n",
       "      <td>3.4375</td>\n",
       "      <td>3.625</td>\n",
       "      <td>3.8125</td>\n",
       "      <td>4.00</td>\n",
       "    </tr>\n",
       "    <tr>\n",
       "      <th>2018</th>\n",
       "      <td>3.0</td>\n",
       "      <td>3.666667</td>\n",
       "      <td>0.577350</td>\n",
       "      <td>3.00</td>\n",
       "      <td>3.5000</td>\n",
       "      <td>4.000</td>\n",
       "      <td>4.0000</td>\n",
       "      <td>4.00</td>\n",
       "    </tr>\n",
       "  </tbody>\n",
       "</table>\n",
       "</div>"
      ],
      "text/plain": [
       "             count      mean       std   min     25%    50%     75%   max\n",
       "review_date                                                              \n",
       "2009           6.0  3.416667  0.341565  3.00  3.1250  3.500  3.6875  3.75\n",
       "2010           1.0  3.750000       NaN  3.75  3.7500  3.750  3.7500  3.75\n",
       "2011           6.0  3.583333  0.465475  2.75  3.5000  3.625  3.9375  4.00\n",
       "2012           8.0  3.656250  0.265165  3.25  3.5000  3.625  3.8125  4.00\n",
       "2013          11.0  3.613636  0.423728  2.75  3.2500  3.750  4.0000  4.00\n",
       "2014           6.0  3.500000  0.223607  3.25  3.3125  3.500  3.6875  3.75\n",
       "2015           2.0  3.750000  0.353553  3.50  3.6250  3.750  3.8750  4.00\n",
       "2016           7.0  3.607143  0.243975  3.25  3.5000  3.500  3.7500  4.00\n",
       "2017           2.0  3.625000  0.530330  3.25  3.4375  3.625  3.8125  4.00\n",
       "2018           3.0  3.666667  0.577350  3.00  3.5000  4.000  4.0000  4.00"
      ]
     },
     "execution_count": 23,
     "metadata": {},
     "output_type": "execute_result"
    }
   ],
   "source": [
    "#分析Soma公司\n",
    "df_Soma=df[df['company']=='Soma']\n",
    "df_Soma.groupby('review_date')['rating'].describe()\n"
   ]
  },
  {
   "cell_type": "markdown",
   "metadata": {
    "id": "33C86433F13D4F36A479AE03BC55EC38",
    "jupyter": {},
    "notebookId": "66a75485b804a65ef51227c5",
    "runtime": {
     "execution_status": null,
     "is_visible": false,
     "status": "default"
    },
    "scrolled": false,
    "slideshow": {
     "slide_type": "slide"
    },
    "tags": []
   },
   "source": [
    "#### 分析 8  \n",
    "1. Soma公司从2009到2018年一直参加比赛，参与的数量从1-11不等  \n",
    "2. 从最大值看出，几乎年年都有4分（当年最高分）巧克力，除了2009、2010、2014年是3.75，分数也很高"
   ]
  },
  {
   "cell_type": "code",
   "execution_count": 24,
   "metadata": {
    "collapsed": false,
    "id": "1BBE192EA8CE42268A60930D3B3D58B8",
    "jupyter": {
     "outputs_hidden": false
    },
    "notebookId": "66a75485b804a65ef51227c5",
    "slideshow": {
     "slide_type": "slide"
    },
    "tags": []
   },
   "outputs": [
    {
     "data": {
      "text/plain": [
       "Soma                 13\n",
       "Bonnat                8\n",
       "Arete                 6\n",
       "Idilio (Felchlin)     4\n",
       "Domori                4\n",
       "Valrhona              4\n",
       "Fresco                4\n",
       "Pierre Marcolini      3\n",
       "A. Morin              3\n",
       "Cacao Sampaka         3\n",
       "Name: company, dtype: int64"
      ]
     },
     "execution_count": 24,
     "metadata": {},
     "output_type": "execute_result"
    }
   ],
   "source": [
    "df_top['company'].value_counts().head(10)\n"
   ]
  },
  {
   "cell_type": "markdown",
   "metadata": {
    "id": "25979FC36EC2417ABFC49220EC3C099B",
    "jupyter": {},
    "notebookId": "66a75485b804a65ef51227c5",
    "runtime": {
     "execution_status": null,
     "is_visible": false,
     "status": "default"
    },
    "scrolled": false,
    "slideshow": {
     "slide_type": "slide"
    },
    "tags": []
   },
   "source": [
    "#### 分析 9  \n",
    "1. 曾经拿过当年巧克力最高分的公司有53个，Soma依然是数量最多的  \n",
    "2. Soma公司参赛的巧克力品类多，且高品质巧克力产品也多"
   ]
  },
  {
   "cell_type": "markdown",
   "metadata": {
    "id": "F658B29DFF1B4FC9A94E73C97F01A2FE",
    "jupyter": {},
    "notebookId": "66a75485b804a65ef51227c5",
    "runtime": {
     "execution_status": null,
     "is_visible": false,
     "status": "default"
    },
    "scrolled": false,
    "slideshow": {
     "slide_type": "slide"
    },
    "tags": []
   },
   "source": [
    "### 五、分析company_location字段"
   ]
  },
  {
   "cell_type": "code",
   "execution_count": 25,
   "metadata": {
    "collapsed": false,
    "id": "B32C1838531F4460A1EB0FC898B57342",
    "jupyter": {
     "outputs_hidden": false
    },
    "notebookId": "66a75485b804a65ef51227c5",
    "slideshow": {
     "slide_type": "slide"
    },
    "tags": []
   },
   "outputs": [
    {
     "data": {
      "text/plain": [
       "U.S.A             41\n",
       "France            16\n",
       "Canada            16\n",
       "Switzerland        6\n",
       "Belgium            5\n",
       "Australia          4\n",
       "U.k.               4\n",
       "Italy              4\n",
       "Spain              3\n",
       "Ecuador            3\n",
       "Denmark            2\n",
       "Brazil             1\n",
       "Madagascar         1\n",
       "Scotland           1\n",
       "Germany            1\n",
       "Czech republic     1\n",
       "Guatemala          1\n",
       "Name: company_location, dtype: int64"
      ]
     },
     "execution_count": 25,
     "metadata": {},
     "output_type": "execute_result"
    }
   ],
   "source": [
    "#从参赛产品数量分析\n",
    "df_top['company_location'].value_counts()\n"
   ]
  },
  {
   "cell_type": "markdown",
   "metadata": {
    "id": "BC88C8A240744A35BF397298906EE219",
    "jupyter": {},
    "notebookId": "66a75485b804a65ef51227c5",
    "runtime": {
     "execution_status": null,
     "is_visible": false,
     "status": "default"
    },
    "scrolled": false,
    "slideshow": {
     "slide_type": "slide"
    },
    "tags": []
   },
   "source": [
    "#### 分析 10  \n",
    "1. 冠军巧克力中，来自美国公司的产品居多，其次是法国和加拿大（Soma是加拿大的公司），瑞士和比利时巧克力竟然没在前三"
   ]
  },
  {
   "cell_type": "code",
   "execution_count": 26,
   "metadata": {
    "collapsed": false,
    "id": "D276EB6C805449D99E9212395BFD6D14",
    "jupyter": {
     "outputs_hidden": false
    },
    "notebookId": "66a75485b804a65ef51227c5",
    "slideshow": {
     "slide_type": "slide"
    },
    "tags": []
   },
   "outputs": [
    {
     "data": {
      "text/html": [
       "<div>\n",
       "<style scoped>\n",
       "    .dataframe tbody tr th:only-of-type {\n",
       "        vertical-align: middle;\n",
       "    }\n",
       "\n",
       "    .dataframe tbody tr th {\n",
       "        vertical-align: top;\n",
       "    }\n",
       "\n",
       "    .dataframe thead th {\n",
       "        text-align: right;\n",
       "    }\n",
       "</style>\n",
       "<table border=\"1\" class=\"dataframe\">\n",
       "  <thead>\n",
       "    <tr style=\"text-align: right;\">\n",
       "      <th></th>\n",
       "      <th>company_location</th>\n",
       "      <th>company</th>\n",
       "    </tr>\n",
       "  </thead>\n",
       "  <tbody>\n",
       "    <tr>\n",
       "      <th>0</th>\n",
       "      <td>U.S.A</td>\n",
       "      <td>211</td>\n",
       "    </tr>\n",
       "    <tr>\n",
       "      <th>1</th>\n",
       "      <td>Canada</td>\n",
       "      <td>29</td>\n",
       "    </tr>\n",
       "    <tr>\n",
       "      <th>2</th>\n",
       "      <td>U.k.</td>\n",
       "      <td>25</td>\n",
       "    </tr>\n",
       "    <tr>\n",
       "      <th>3</th>\n",
       "      <td>France</td>\n",
       "      <td>19</td>\n",
       "    </tr>\n",
       "    <tr>\n",
       "      <th>4</th>\n",
       "      <td>Ecuador</td>\n",
       "      <td>13</td>\n",
       "    </tr>\n",
       "    <tr>\n",
       "      <th>5</th>\n",
       "      <td>Belgium</td>\n",
       "      <td>12</td>\n",
       "    </tr>\n",
       "    <tr>\n",
       "      <th>6</th>\n",
       "      <td>Peru</td>\n",
       "      <td>11</td>\n",
       "    </tr>\n",
       "    <tr>\n",
       "      <th>7</th>\n",
       "      <td>Italy</td>\n",
       "      <td>10</td>\n",
       "    </tr>\n",
       "    <tr>\n",
       "      <th>8</th>\n",
       "      <td>Switzerland</td>\n",
       "      <td>10</td>\n",
       "    </tr>\n",
       "    <tr>\n",
       "      <th>9</th>\n",
       "      <td>Japan</td>\n",
       "      <td>10</td>\n",
       "    </tr>\n",
       "  </tbody>\n",
       "</table>\n",
       "</div>"
      ],
      "text/plain": [
       "  company_location  company\n",
       "0            U.S.A      211\n",
       "1           Canada       29\n",
       "2             U.k.       25\n",
       "3           France       19\n",
       "4          Ecuador       13\n",
       "5          Belgium       12\n",
       "6             Peru       11\n",
       "7            Italy       10\n",
       "8      Switzerland       10\n",
       "9            Japan       10"
      ]
     },
     "execution_count": 26,
     "metadata": {},
     "output_type": "execute_result"
    }
   ],
   "source": [
    "#从参赛公司的维度分析\n",
    "df[['company','company_location']].drop_duplicates().groupby('company_location').count().sort_values('company',ascending=False).reset_index().head(10)\n"
   ]
  },
  {
   "cell_type": "markdown",
   "metadata": {
    "id": "871C4306C65C407C8F47EB838453C14D",
    "jupyter": {},
    "notebookId": "66a75485b804a65ef51227c5",
    "runtime": {
     "execution_status": null,
     "is_visible": false,
     "status": "default"
    },
    "scrolled": false,
    "slideshow": {
     "slide_type": "slide"
    },
    "tags": []
   },
   "source": [
    "#### 分析 11  \n",
    "1. 参赛的公司中，来自美国的公司最多"
   ]
  },
  {
   "cell_type": "code",
   "execution_count": 27,
   "metadata": {
    "collapsed": false,
    "id": "9B5E10668C06491D896823A8F96F4BE1",
    "jupyter": {
     "outputs_hidden": false
    },
    "notebookId": "66a75485b804a65ef51227c5",
    "slideshow": {
     "slide_type": "slide"
    },
    "tags": []
   },
   "outputs": [
    {
     "data": {
      "text/html": [
       "<div>\n",
       "<style scoped>\n",
       "    .dataframe tbody tr th:only-of-type {\n",
       "        vertical-align: middle;\n",
       "    }\n",
       "\n",
       "    .dataframe tbody tr th {\n",
       "        vertical-align: top;\n",
       "    }\n",
       "\n",
       "    .dataframe thead th {\n",
       "        text-align: right;\n",
       "    }\n",
       "</style>\n",
       "<table border=\"1\" class=\"dataframe\">\n",
       "  <thead>\n",
       "    <tr style=\"text-align: right;\">\n",
       "      <th></th>\n",
       "      <th>company_location</th>\n",
       "      <th>company</th>\n",
       "    </tr>\n",
       "  </thead>\n",
       "  <tbody>\n",
       "    <tr>\n",
       "      <th>0</th>\n",
       "      <td>U.S.A</td>\n",
       "      <td>24</td>\n",
       "    </tr>\n",
       "    <tr>\n",
       "      <th>1</th>\n",
       "      <td>U.k.</td>\n",
       "      <td>4</td>\n",
       "    </tr>\n",
       "    <tr>\n",
       "      <th>2</th>\n",
       "      <td>France</td>\n",
       "      <td>4</td>\n",
       "    </tr>\n",
       "    <tr>\n",
       "      <th>3</th>\n",
       "      <td>Canada</td>\n",
       "      <td>4</td>\n",
       "    </tr>\n",
       "    <tr>\n",
       "      <th>4</th>\n",
       "      <td>Switzerland</td>\n",
       "      <td>3</td>\n",
       "    </tr>\n",
       "    <tr>\n",
       "      <th>5</th>\n",
       "      <td>Belgium</td>\n",
       "      <td>2</td>\n",
       "    </tr>\n",
       "    <tr>\n",
       "      <th>6</th>\n",
       "      <td>Australia</td>\n",
       "      <td>2</td>\n",
       "    </tr>\n",
       "    <tr>\n",
       "      <th>7</th>\n",
       "      <td>Ecuador</td>\n",
       "      <td>1</td>\n",
       "    </tr>\n",
       "    <tr>\n",
       "      <th>8</th>\n",
       "      <td>Denmark</td>\n",
       "      <td>1</td>\n",
       "    </tr>\n",
       "    <tr>\n",
       "      <th>9</th>\n",
       "      <td>Guatemala</td>\n",
       "      <td>1</td>\n",
       "    </tr>\n",
       "  </tbody>\n",
       "</table>\n",
       "</div>"
      ],
      "text/plain": [
       "  company_location  company\n",
       "0            U.S.A       24\n",
       "1             U.k.        4\n",
       "2           France        4\n",
       "3           Canada        4\n",
       "4      Switzerland        3\n",
       "5          Belgium        2\n",
       "6        Australia        2\n",
       "7          Ecuador        1\n",
       "8          Denmark        1\n",
       "9        Guatemala        1"
      ]
     },
     "execution_count": 27,
     "metadata": {},
     "output_type": "execute_result"
    }
   ],
   "source": [
    "#从曾经获得过冠军的公司的维度分析\n",
    "df_top[['company','company_location']].drop_duplicates().groupby('company_location').count().sort_values('company',ascending=False).reset_index().head(10)\n"
   ]
  },
  {
   "cell_type": "markdown",
   "metadata": {
    "id": "E8974EB851684F7493DFD28E25FC5E1F",
    "jupyter": {},
    "notebookId": "66a75485b804a65ef51227c5",
    "runtime": {
     "execution_status": null,
     "is_visible": false,
     "status": "default"
    },
    "scrolled": false,
    "slideshow": {
     "slide_type": "slide"
    },
    "tags": []
   },
   "source": [
    "#### 分析 12  \n",
    "1. 产生冠军巧克力的公司中，来自美国的也最多  \n"
   ]
  },
  {
   "cell_type": "markdown",
   "metadata": {
    "id": "9A5D6F9DE7CF408CB4E4AC10C3983626",
    "jupyter": {},
    "notebookId": "66a75485b804a65ef51227c5",
    "runtime": {
     "execution_status": null,
     "is_visible": false,
     "status": "default"
    },
    "scrolled": false,
    "slideshow": {
     "slide_type": "slide"
    },
    "tags": []
   },
   "source": [
    "所有冠军巧克力中，来自美国的制造商生产的产品数量最多；  \n",
    "所有生产过冠军巧克力的制造商中，来自美国的制造商最多；  \n",
    "整体参赛的制造商中，来自美国的制造商也是最多的"
   ]
  },
  {
   "cell_type": "markdown",
   "metadata": {
    "id": "17BE8D5A415344AB9D1841C0C3DC0F15",
    "jupyter": {},
    "notebookId": "66a75485b804a65ef51227c5",
    "runtime": {
     "execution_status": null,
     "is_visible": false,
     "status": "default"
    },
    "scrolled": false,
    "slideshow": {
     "slide_type": "slide"
    },
    "tags": []
   },
   "source": [
    "### 六、分析country_of_bean_origin字段"
   ]
  },
  {
   "cell_type": "code",
   "execution_count": 28,
   "metadata": {
    "collapsed": false,
    "id": "8A67CF3993844584967402866BBDC27F",
    "jupyter": {
     "outputs_hidden": false
    },
    "notebookId": "66a75485b804a65ef51227c5",
    "slideshow": {
     "slide_type": "slide"
    },
    "tags": []
   },
   "outputs": [
    {
     "data": {
      "text/plain": [
       "Peru                19\n",
       "Venezuela           18\n",
       "Madagascar          10\n",
       "Ecuador              8\n",
       "Blend                8\n",
       "Colombia             5\n",
       "Bolivia              5\n",
       "Brazil               4\n",
       "Papua new guinea     4\n",
       "Haiti                3\n",
       "Name: country_of_bean_origin, dtype: int64"
      ]
     },
     "execution_count": 28,
     "metadata": {},
     "output_type": "execute_result"
    }
   ],
   "source": [
    "df_top['country_of_bean_origin'].value_counts().head(10)\n",
    "  "
   ]
  },
  {
   "cell_type": "markdown",
   "metadata": {
    "id": "15072241C1AE4289A6202C684DCBAE34",
    "jupyter": {},
    "notebookId": "66a75485b804a65ef51227c5",
    "runtime": {
     "execution_status": null,
     "is_visible": false,
     "status": "default"
    },
    "scrolled": false,
    "slideshow": {
     "slide_type": "slide"
    },
    "tags": []
   },
   "source": [
    "#### 分析 13  \n",
    "1. 冠军巧克力中，原产地来自Peru的最多，其次是Venezuela、Madagascar"
   ]
  },
  {
   "cell_type": "code",
   "execution_count": 29,
   "metadata": {
    "collapsed": false,
    "id": "7FB7F15787F642E99C4EAA9964DD3BC6",
    "jupyter": {
     "outputs_hidden": false
    },
    "notebookId": "66a75485b804a65ef51227c5",
    "slideshow": {
     "slide_type": "slide"
    },
    "tags": []
   },
   "outputs": [
    {
     "data": {
      "text/html": [
       "<div>\n",
       "<style scoped>\n",
       "    .dataframe tbody tr th:only-of-type {\n",
       "        vertical-align: middle;\n",
       "    }\n",
       "\n",
       "    .dataframe tbody tr th {\n",
       "        vertical-align: top;\n",
       "    }\n",
       "\n",
       "    .dataframe thead th {\n",
       "        text-align: right;\n",
       "    }\n",
       "</style>\n",
       "<table border=\"1\" class=\"dataframe\">\n",
       "  <thead>\n",
       "    <tr style=\"text-align: right;\">\n",
       "      <th></th>\n",
       "      <th>company</th>\n",
       "      <th>company_location</th>\n",
       "      <th>review_date</th>\n",
       "      <th>country_of_bean_origin</th>\n",
       "      <th>specific_bean_origin_or_bar_name</th>\n",
       "      <th>cocoa_percent</th>\n",
       "      <th>rating</th>\n",
       "      <th>counts_of_ingredients</th>\n",
       "      <th>cocoa_butter</th>\n",
       "      <th>vanilla</th>\n",
       "      <th>lecithin</th>\n",
       "      <th>salt</th>\n",
       "      <th>sugar</th>\n",
       "      <th>sweetener_without_sugar</th>\n",
       "      <th>first_taste</th>\n",
       "      <th>second_taste</th>\n",
       "      <th>third_taste</th>\n",
       "      <th>fourth_taste</th>\n",
       "    </tr>\n",
       "  </thead>\n",
       "  <tbody>\n",
       "    <tr>\n",
       "      <th>1479</th>\n",
       "      <td>Neuhaus (Callebaut)</td>\n",
       "      <td>Belgium</td>\n",
       "      <td>2007</td>\n",
       "      <td>Blend</td>\n",
       "      <td>Dark</td>\n",
       "      <td>73.0</td>\n",
       "      <td>1.0</td>\n",
       "      <td>5</td>\n",
       "      <td>1</td>\n",
       "      <td>1</td>\n",
       "      <td>1</td>\n",
       "      <td>0</td>\n",
       "      <td>1</td>\n",
       "      <td>0</td>\n",
       "      <td>pastey</td>\n",
       "      <td>strong flavor</td>\n",
       "      <td>NaN</td>\n",
       "      <td>NaN</td>\n",
       "    </tr>\n",
       "  </tbody>\n",
       "</table>\n",
       "</div>"
      ],
      "text/plain": [
       "                  company company_location  review_date  \\\n",
       "1479  Neuhaus (Callebaut)          Belgium         2007   \n",
       "\n",
       "     country_of_bean_origin specific_bean_origin_or_bar_name  cocoa_percent  \\\n",
       "1479                  Blend                             Dark           73.0   \n",
       "\n",
       "      rating  counts_of_ingredients  cocoa_butter  vanilla  lecithin  salt  \\\n",
       "1479     1.0                      5             1        1         1     0   \n",
       "\n",
       "      sugar  sweetener_without_sugar first_taste   second_taste third_taste  \\\n",
       "1479      1                        0      pastey  strong flavor         NaN   \n",
       "\n",
       "     fourth_taste  \n",
       "1479          NaN  "
      ]
     },
     "execution_count": 29,
     "metadata": {},
     "output_type": "execute_result"
    }
   ],
   "source": [
    "######插播一个分析\n",
    "#查看分数最低的数据\n",
    "df[df['rating']==df['rating'].min()]\n"
   ]
  },
  {
   "cell_type": "markdown",
   "metadata": {
    "id": "80CA6F7B439A4DC08B80F66C6A206D62",
    "jupyter": {},
    "notebookId": "66a75485b804a65ef51227c5",
    "runtime": {
     "execution_status": null,
     "is_visible": false,
     "status": "default"
    },
    "scrolled": false,
    "slideshow": {
     "slide_type": "slide"
    },
    "tags": []
   },
   "source": [
    "#### 分析 14  \n",
    "1. 史低的参赛数据是2007年来自Belgium的Neuhaus (Callebaut)的Dark巧克力，分数只有一分"
   ]
  },
  {
   "cell_type": "code",
   "execution_count": 30,
   "metadata": {
    "collapsed": false,
    "id": "6B193D8DA40844CA9A8D19065567836E",
    "jupyter": {
     "outputs_hidden": false
    },
    "notebookId": "66a75485b804a65ef51227c5",
    "slideshow": {
     "slide_type": "slide"
    },
    "tags": []
   },
   "outputs": [
    {
     "data": {
      "text/html": [
       "<div>\n",
       "<style scoped>\n",
       "    .dataframe tbody tr th:only-of-type {\n",
       "        vertical-align: middle;\n",
       "    }\n",
       "\n",
       "    .dataframe tbody tr th {\n",
       "        vertical-align: top;\n",
       "    }\n",
       "\n",
       "    .dataframe thead th {\n",
       "        text-align: right;\n",
       "    }\n",
       "</style>\n",
       "<table border=\"1\" class=\"dataframe\">\n",
       "  <thead>\n",
       "    <tr style=\"text-align: right;\">\n",
       "      <th></th>\n",
       "      <th>company</th>\n",
       "      <th>company_location</th>\n",
       "      <th>review_date</th>\n",
       "      <th>country_of_bean_origin</th>\n",
       "      <th>specific_bean_origin_or_bar_name</th>\n",
       "      <th>cocoa_percent</th>\n",
       "      <th>rating</th>\n",
       "      <th>counts_of_ingredients</th>\n",
       "      <th>cocoa_butter</th>\n",
       "      <th>vanilla</th>\n",
       "      <th>lecithin</th>\n",
       "      <th>salt</th>\n",
       "      <th>sugar</th>\n",
       "      <th>sweetener_without_sugar</th>\n",
       "      <th>first_taste</th>\n",
       "      <th>second_taste</th>\n",
       "      <th>third_taste</th>\n",
       "      <th>fourth_taste</th>\n",
       "    </tr>\n",
       "  </thead>\n",
       "  <tbody>\n",
       "    <tr>\n",
       "      <th>1476</th>\n",
       "      <td>Neuhaus (Callebaut)</td>\n",
       "      <td>Belgium</td>\n",
       "      <td>2006</td>\n",
       "      <td>Venezuela</td>\n",
       "      <td>Ocumare</td>\n",
       "      <td>71.0</td>\n",
       "      <td>3.00</td>\n",
       "      <td>5</td>\n",
       "      <td>1</td>\n",
       "      <td>1</td>\n",
       "      <td>1</td>\n",
       "      <td>0</td>\n",
       "      <td>1</td>\n",
       "      <td>0</td>\n",
       "      <td>pastey</td>\n",
       "      <td>complex</td>\n",
       "      <td>coffee</td>\n",
       "      <td>vanilla</td>\n",
       "    </tr>\n",
       "    <tr>\n",
       "      <th>1477</th>\n",
       "      <td>Neuhaus (Callebaut)</td>\n",
       "      <td>Belgium</td>\n",
       "      <td>2006</td>\n",
       "      <td>Sao tome</td>\n",
       "      <td>Sao Tome</td>\n",
       "      <td>75.0</td>\n",
       "      <td>2.75</td>\n",
       "      <td>5</td>\n",
       "      <td>1</td>\n",
       "      <td>1</td>\n",
       "      <td>1</td>\n",
       "      <td>0</td>\n",
       "      <td>1</td>\n",
       "      <td>0</td>\n",
       "      <td>grassy</td>\n",
       "      <td>earthy</td>\n",
       "      <td>burnt</td>\n",
       "      <td>NaN</td>\n",
       "    </tr>\n",
       "    <tr>\n",
       "      <th>1478</th>\n",
       "      <td>Neuhaus (Callebaut)</td>\n",
       "      <td>Belgium</td>\n",
       "      <td>2006</td>\n",
       "      <td>Blend</td>\n",
       "      <td>West Africa</td>\n",
       "      <td>73.0</td>\n",
       "      <td>2.00</td>\n",
       "      <td>5</td>\n",
       "      <td>1</td>\n",
       "      <td>1</td>\n",
       "      <td>1</td>\n",
       "      <td>0</td>\n",
       "      <td>1</td>\n",
       "      <td>0</td>\n",
       "      <td>non descript</td>\n",
       "      <td>poor aftertaste</td>\n",
       "      <td>NaN</td>\n",
       "      <td>NaN</td>\n",
       "    </tr>\n",
       "    <tr>\n",
       "      <th>1479</th>\n",
       "      <td>Neuhaus (Callebaut)</td>\n",
       "      <td>Belgium</td>\n",
       "      <td>2007</td>\n",
       "      <td>Blend</td>\n",
       "      <td>Dark</td>\n",
       "      <td>73.0</td>\n",
       "      <td>1.00</td>\n",
       "      <td>5</td>\n",
       "      <td>1</td>\n",
       "      <td>1</td>\n",
       "      <td>1</td>\n",
       "      <td>0</td>\n",
       "      <td>1</td>\n",
       "      <td>0</td>\n",
       "      <td>pastey</td>\n",
       "      <td>strong flavor</td>\n",
       "      <td>NaN</td>\n",
       "      <td>NaN</td>\n",
       "    </tr>\n",
       "    <tr>\n",
       "      <th>1480</th>\n",
       "      <td>Neuhaus (Callebaut)</td>\n",
       "      <td>Belgium</td>\n",
       "      <td>2008</td>\n",
       "      <td>Trinidad</td>\n",
       "      <td>Manickchand Estate</td>\n",
       "      <td>67.0</td>\n",
       "      <td>3.75</td>\n",
       "      <td>5</td>\n",
       "      <td>1</td>\n",
       "      <td>1</td>\n",
       "      <td>1</td>\n",
       "      <td>0</td>\n",
       "      <td>1</td>\n",
       "      <td>0</td>\n",
       "      <td>complex</td>\n",
       "      <td>intense banana</td>\n",
       "      <td>NaN</td>\n",
       "      <td>NaN</td>\n",
       "    </tr>\n",
       "    <tr>\n",
       "      <th>1481</th>\n",
       "      <td>Neuhaus (Callebaut)</td>\n",
       "      <td>Belgium</td>\n",
       "      <td>2010</td>\n",
       "      <td>Papua new guinea</td>\n",
       "      <td>Papua New Guinea</td>\n",
       "      <td>70.0</td>\n",
       "      <td>2.50</td>\n",
       "      <td>5</td>\n",
       "      <td>1</td>\n",
       "      <td>1</td>\n",
       "      <td>1</td>\n",
       "      <td>0</td>\n",
       "      <td>1</td>\n",
       "      <td>0</td>\n",
       "      <td>gritty</td>\n",
       "      <td>vanilla</td>\n",
       "      <td>non descript</td>\n",
       "      <td>NaN</td>\n",
       "    </tr>\n",
       "  </tbody>\n",
       "</table>\n",
       "</div>"
      ],
      "text/plain": [
       "                  company company_location  review_date  \\\n",
       "1476  Neuhaus (Callebaut)          Belgium         2006   \n",
       "1477  Neuhaus (Callebaut)          Belgium         2006   \n",
       "1478  Neuhaus (Callebaut)          Belgium         2006   \n",
       "1479  Neuhaus (Callebaut)          Belgium         2007   \n",
       "1480  Neuhaus (Callebaut)          Belgium         2008   \n",
       "1481  Neuhaus (Callebaut)          Belgium         2010   \n",
       "\n",
       "     country_of_bean_origin specific_bean_origin_or_bar_name  cocoa_percent  \\\n",
       "1476              Venezuela                          Ocumare           71.0   \n",
       "1477               Sao tome                         Sao Tome           75.0   \n",
       "1478                  Blend                      West Africa           73.0   \n",
       "1479                  Blend                             Dark           73.0   \n",
       "1480               Trinidad               Manickchand Estate           67.0   \n",
       "1481       Papua new guinea                 Papua New Guinea           70.0   \n",
       "\n",
       "      rating  counts_of_ingredients  cocoa_butter  vanilla  lecithin  salt  \\\n",
       "1476    3.00                      5             1        1         1     0   \n",
       "1477    2.75                      5             1        1         1     0   \n",
       "1478    2.00                      5             1        1         1     0   \n",
       "1479    1.00                      5             1        1         1     0   \n",
       "1480    3.75                      5             1        1         1     0   \n",
       "1481    2.50                      5             1        1         1     0   \n",
       "\n",
       "      sugar  sweetener_without_sugar   first_taste     second_taste  \\\n",
       "1476      1                        0        pastey          complex   \n",
       "1477      1                        0        grassy           earthy   \n",
       "1478      1                        0  non descript  poor aftertaste   \n",
       "1479      1                        0        pastey    strong flavor   \n",
       "1480      1                        0       complex   intense banana   \n",
       "1481      1                        0        gritty          vanilla   \n",
       "\n",
       "       third_taste fourth_taste  \n",
       "1476        coffee      vanilla  \n",
       "1477         burnt          NaN  \n",
       "1478           NaN          NaN  \n",
       "1479           NaN          NaN  \n",
       "1480           NaN          NaN  \n",
       "1481  non descript          NaN  "
      ]
     },
     "execution_count": 30,
     "metadata": {},
     "output_type": "execute_result"
    }
   ],
   "source": [
    "#分析该公司\n",
    "df[df['company']=='Neuhaus (Callebaut)']\n"
   ]
  },
  {
   "cell_type": "markdown",
   "metadata": {
    "id": "B059A6C4742A4F389F6D874388A63EC9",
    "jupyter": {},
    "notebookId": "66a75485b804a65ef51227c5",
    "runtime": {
     "execution_status": null,
     "is_visible": false,
     "status": "default"
    },
    "scrolled": false,
    "slideshow": {
     "slide_type": "slide"
    },
    "tags": []
   },
   "source": [
    "#### 分析 15  \n",
    "1. 该公司在2006、2008、2009、2010共参赛6款产品  \n",
    "2. 06年的三款产品只有一款达到3分，07年拿到史低，但是08年拿到3.75的高分！虽然自10年以后都没有参赛，但是数据依然保留这个高光时刻  \n",
    "3. 该公司的参赛产品counts_of_ingredients都是5，似乎喜欢添加很多的成分在里面"
   ]
  },
  {
   "cell_type": "markdown",
   "metadata": {
    "id": "84B49424A2C54D3AB2354CB8CD9D5FC4",
    "jupyter": {},
    "notebookId": "66a75485b804a65ef51227c5",
    "runtime": {
     "execution_status": null,
     "is_visible": false,
     "status": "default"
    },
    "scrolled": false,
    "slideshow": {
     "slide_type": "slide"
    },
    "tags": []
   },
   "source": [
    "### 七、分析cocoa_percent字段"
   ]
  },
  {
   "cell_type": "code",
   "execution_count": 31,
   "metadata": {
    "collapsed": false,
    "id": "81406DA979B74604AE6F2B54533560F3",
    "jupyter": {
     "outputs_hidden": false
    },
    "notebookId": "66a75485b804a65ef51227c5",
    "slideshow": {
     "slide_type": "slide"
    },
    "tags": []
   },
   "outputs": [
    {
     "data": {
      "text/plain": [
       "<matplotlib.axes._subplots.AxesSubplot at 0x7f8ebb0b09b0>"
      ]
     },
     "execution_count": 31,
     "metadata": {},
     "output_type": "execute_result"
    },
    {
     "data": {
      "text/html": [
       "<img src=\"https://cdn.kesci.com/upload/rt/81406DA979B74604AE6F2B54533560F3/shshagebag.png\">"
      ],
      "text/plain": [
       "<Figure size 1080x360 with 2 Axes>"
      ]
     },
     "metadata": {
      "needs_background": "light"
     },
     "output_type": "display_data"
    }
   ],
   "source": [
    "\n",
    "df_coco = df.pivot_table(index='rating', columns='cocoa_percent', values='company', aggfunc='count') \n",
    "\n",
    "plt.figure(figsize = (15, 5)) \n",
    "sns.heatmap(data=df_coco, cmap='YlOrBr')\n"
   ]
  },
  {
   "cell_type": "markdown",
   "metadata": {
    "id": "11932D3B3C624E478667954D68BBFA25",
    "jupyter": {},
    "notebookId": "66a75485b804a65ef51227c5",
    "runtime": {
     "execution_status": null,
     "is_visible": false,
     "status": "default"
    },
    "scrolled": false,
    "slideshow": {
     "slide_type": "slide"
    },
    "tags": []
   },
   "source": [
    "#### 分析 16  \n",
    "coco百分比在70%时，巧克力数量最多"
   ]
  },
  {
   "cell_type": "code",
   "execution_count": 32,
   "metadata": {
    "collapsed": false,
    "id": "EB7EE8B4040E4BDA8F0CF374BD6668BA",
    "jupyter": {
     "outputs_hidden": false
    },
    "notebookId": "66a75485b804a65ef51227c5",
    "slideshow": {
     "slide_type": "slide"
    },
    "tags": []
   },
   "outputs": [
    {
     "data": {
      "text/html": [
       "<div>\n",
       "<style scoped>\n",
       "    .dataframe tbody tr th:only-of-type {\n",
       "        vertical-align: middle;\n",
       "    }\n",
       "\n",
       "    .dataframe tbody tr th {\n",
       "        vertical-align: top;\n",
       "    }\n",
       "\n",
       "    .dataframe thead th {\n",
       "        text-align: right;\n",
       "    }\n",
       "</style>\n",
       "<table border=\"1\" class=\"dataframe\">\n",
       "  <thead>\n",
       "    <tr style=\"text-align: right;\">\n",
       "      <th></th>\n",
       "      <th>count</th>\n",
       "      <th>top_count</th>\n",
       "      <th>percent</th>\n",
       "    </tr>\n",
       "    <tr>\n",
       "      <th>cocoa_percent</th>\n",
       "      <th></th>\n",
       "      <th></th>\n",
       "      <th></th>\n",
       "    </tr>\n",
       "  </thead>\n",
       "  <tbody>\n",
       "    <tr>\n",
       "      <th>70.0</th>\n",
       "      <td>904</td>\n",
       "      <td>58.0</td>\n",
       "      <td>6.42</td>\n",
       "    </tr>\n",
       "    <tr>\n",
       "      <th>75.0</th>\n",
       "      <td>284</td>\n",
       "      <td>15.0</td>\n",
       "      <td>5.28</td>\n",
       "    </tr>\n",
       "    <tr>\n",
       "      <th>72.0</th>\n",
       "      <td>251</td>\n",
       "      <td>12.0</td>\n",
       "      <td>4.78</td>\n",
       "    </tr>\n",
       "    <tr>\n",
       "      <th>65.0</th>\n",
       "      <td>80</td>\n",
       "      <td>1.0</td>\n",
       "      <td>1.25</td>\n",
       "    </tr>\n",
       "    <tr>\n",
       "      <th>74.0</th>\n",
       "      <td>62</td>\n",
       "      <td>5.0</td>\n",
       "      <td>8.06</td>\n",
       "    </tr>\n",
       "    <tr>\n",
       "      <th>68.0</th>\n",
       "      <td>59</td>\n",
       "      <td>2.0</td>\n",
       "      <td>3.39</td>\n",
       "    </tr>\n",
       "    <tr>\n",
       "      <th>73.0</th>\n",
       "      <td>59</td>\n",
       "      <td>3.0</td>\n",
       "      <td>5.08</td>\n",
       "    </tr>\n",
       "    <tr>\n",
       "      <th>60.0</th>\n",
       "      <td>44</td>\n",
       "      <td>1.0</td>\n",
       "      <td>2.27</td>\n",
       "    </tr>\n",
       "    <tr>\n",
       "      <th>71.0</th>\n",
       "      <td>42</td>\n",
       "      <td>1.0</td>\n",
       "      <td>2.38</td>\n",
       "    </tr>\n",
       "    <tr>\n",
       "      <th>64.0</th>\n",
       "      <td>31</td>\n",
       "      <td>3.0</td>\n",
       "      <td>9.68</td>\n",
       "    </tr>\n",
       "    <tr>\n",
       "      <th>67.0</th>\n",
       "      <td>30</td>\n",
       "      <td>2.0</td>\n",
       "      <td>6.67</td>\n",
       "    </tr>\n",
       "    <tr>\n",
       "      <th>78.0</th>\n",
       "      <td>20</td>\n",
       "      <td>1.0</td>\n",
       "      <td>5.00</td>\n",
       "    </tr>\n",
       "    <tr>\n",
       "      <th>63.0</th>\n",
       "      <td>12</td>\n",
       "      <td>3.0</td>\n",
       "      <td>25.00</td>\n",
       "    </tr>\n",
       "    <tr>\n",
       "      <th>69.0</th>\n",
       "      <td>12</td>\n",
       "      <td>2.0</td>\n",
       "      <td>16.67</td>\n",
       "    </tr>\n",
       "    <tr>\n",
       "      <th>88.0</th>\n",
       "      <td>7</td>\n",
       "      <td>1.0</td>\n",
       "      <td>14.29</td>\n",
       "    </tr>\n",
       "  </tbody>\n",
       "</table>\n",
       "</div>"
      ],
      "text/plain": [
       "               count  top_count  percent\n",
       "cocoa_percent                           \n",
       "70.0             904       58.0     6.42\n",
       "75.0             284       15.0     5.28\n",
       "72.0             251       12.0     4.78\n",
       "65.0              80        1.0     1.25\n",
       "74.0              62        5.0     8.06\n",
       "68.0              59        2.0     3.39\n",
       "73.0              59        3.0     5.08\n",
       "60.0              44        1.0     2.27\n",
       "71.0              42        1.0     2.38\n",
       "64.0              31        3.0     9.68\n",
       "67.0              30        2.0     6.67\n",
       "78.0              20        1.0     5.00\n",
       "63.0              12        3.0    25.00\n",
       "69.0              12        2.0    16.67\n",
       "88.0               7        1.0    14.29"
      ]
     },
     "execution_count": 32,
     "metadata": {},
     "output_type": "execute_result"
    }
   ],
   "source": [
    "c1=df.groupby('cocoa_percent')['company'].count().sort_values(ascending=False)\n",
    "c2=df_top.groupby('cocoa_percent')['company'].count().sort_values(ascending=False)\n",
    "c3=pd.merge(c1,c2,on='cocoa_percent',how='outer')\n",
    "c3.rename(columns={'company_x': 'count', 'company_y': 'top_count'}, inplace=True)\n",
    "c3['percent']=(c3['top_count']/c3['count']*100).round(2)\n",
    "c3.dropna()\n",
    "\n"
   ]
  },
  {
   "cell_type": "markdown",
   "metadata": {
    "id": "E21A84D750D5482AB9BCC41559AA6F0F",
    "jupyter": {},
    "notebookId": "66a75485b804a65ef51227c5",
    "runtime": {
     "execution_status": null,
     "is_visible": false,
     "status": "default"
    },
    "scrolled": false,
    "slideshow": {
     "slide_type": "slide"
    },
    "tags": []
   },
   "source": [
    "#### 分析 17  \n",
    "1. 70%的coco_percent的产品，无论是参赛数量和获得冠军巧克力的数量都是远远高于其它percent的  \n",
    "2. 但是从产生冠军巧克力的百分比中，没有明显优势  \n",
    "3. 所以制造商更热衷于用此比例制作巧克力，但是不代表该比例更容易产生冠军巧克力  \n"
   ]
  },
  {
   "cell_type": "code",
   "execution_count": 33,
   "metadata": {
    "collapsed": false,
    "id": "BD2A8A032DA34BC1877BCEA8649AFCA3",
    "jupyter": {
     "outputs_hidden": false
    },
    "notebookId": "66a75485b804a65ef51227c5",
    "slideshow": {
     "slide_type": "slide"
    },
    "tags": []
   },
   "outputs": [
    {
     "data": {
      "text/html": [
       "<div>\n",
       "<style scoped>\n",
       "    .dataframe tbody tr th:only-of-type {\n",
       "        vertical-align: middle;\n",
       "    }\n",
       "\n",
       "    .dataframe tbody tr th {\n",
       "        vertical-align: top;\n",
       "    }\n",
       "\n",
       "    .dataframe thead th {\n",
       "        text-align: right;\n",
       "    }\n",
       "</style>\n",
       "<table border=\"1\" class=\"dataframe\">\n",
       "  <thead>\n",
       "    <tr style=\"text-align: right;\">\n",
       "      <th></th>\n",
       "      <th>70_count</th>\n",
       "      <th>count</th>\n",
       "      <th>percent</th>\n",
       "    </tr>\n",
       "    <tr>\n",
       "      <th>review_date</th>\n",
       "      <th></th>\n",
       "      <th></th>\n",
       "      <th></th>\n",
       "    </tr>\n",
       "  </thead>\n",
       "  <tbody>\n",
       "    <tr>\n",
       "      <th>2006</th>\n",
       "      <td>11</td>\n",
       "      <td>60</td>\n",
       "      <td>18.333333</td>\n",
       "    </tr>\n",
       "    <tr>\n",
       "      <th>2007</th>\n",
       "      <td>19</td>\n",
       "      <td>69</td>\n",
       "      <td>27.536232</td>\n",
       "    </tr>\n",
       "    <tr>\n",
       "      <th>2008</th>\n",
       "      <td>27</td>\n",
       "      <td>84</td>\n",
       "      <td>32.142857</td>\n",
       "    </tr>\n",
       "    <tr>\n",
       "      <th>2009</th>\n",
       "      <td>30</td>\n",
       "      <td>113</td>\n",
       "      <td>26.548673</td>\n",
       "    </tr>\n",
       "    <tr>\n",
       "      <th>2010</th>\n",
       "      <td>19</td>\n",
       "      <td>94</td>\n",
       "      <td>20.212766</td>\n",
       "    </tr>\n",
       "    <tr>\n",
       "      <th>2011</th>\n",
       "      <td>44</td>\n",
       "      <td>153</td>\n",
       "      <td>28.758170</td>\n",
       "    </tr>\n",
       "    <tr>\n",
       "      <th>2012</th>\n",
       "      <td>74</td>\n",
       "      <td>180</td>\n",
       "      <td>41.111111</td>\n",
       "    </tr>\n",
       "    <tr>\n",
       "      <th>2013</th>\n",
       "      <td>74</td>\n",
       "      <td>178</td>\n",
       "      <td>41.573034</td>\n",
       "    </tr>\n",
       "    <tr>\n",
       "      <th>2014</th>\n",
       "      <td>96</td>\n",
       "      <td>243</td>\n",
       "      <td>39.506173</td>\n",
       "    </tr>\n",
       "    <tr>\n",
       "      <th>2015</th>\n",
       "      <td>135</td>\n",
       "      <td>280</td>\n",
       "      <td>48.214286</td>\n",
       "    </tr>\n",
       "    <tr>\n",
       "      <th>2016</th>\n",
       "      <td>94</td>\n",
       "      <td>215</td>\n",
       "      <td>43.720930</td>\n",
       "    </tr>\n",
       "    <tr>\n",
       "      <th>2017</th>\n",
       "      <td>50</td>\n",
       "      <td>102</td>\n",
       "      <td>49.019608</td>\n",
       "    </tr>\n",
       "    <tr>\n",
       "      <th>2018</th>\n",
       "      <td>125</td>\n",
       "      <td>225</td>\n",
       "      <td>55.555556</td>\n",
       "    </tr>\n",
       "    <tr>\n",
       "      <th>2019</th>\n",
       "      <td>83</td>\n",
       "      <td>195</td>\n",
       "      <td>42.564103</td>\n",
       "    </tr>\n",
       "    <tr>\n",
       "      <th>2020</th>\n",
       "      <td>23</td>\n",
       "      <td>33</td>\n",
       "      <td>69.696970</td>\n",
       "    </tr>\n",
       "  </tbody>\n",
       "</table>\n",
       "</div>"
      ],
      "text/plain": [
       "             70_count  count    percent\n",
       "review_date                            \n",
       "2006               11     60  18.333333\n",
       "2007               19     69  27.536232\n",
       "2008               27     84  32.142857\n",
       "2009               30    113  26.548673\n",
       "2010               19     94  20.212766\n",
       "2011               44    153  28.758170\n",
       "2012               74    180  41.111111\n",
       "2013               74    178  41.573034\n",
       "2014               96    243  39.506173\n",
       "2015              135    280  48.214286\n",
       "2016               94    215  43.720930\n",
       "2017               50    102  49.019608\n",
       "2018              125    225  55.555556\n",
       "2019               83    195  42.564103\n",
       "2020               23     33  69.696970"
      ]
     },
     "execution_count": 33,
     "metadata": {},
     "output_type": "execute_result"
    }
   ],
   "source": [
    "d1=df[df['cocoa_percent']==70].groupby('review_date')['company'].count()\n",
    "d2=df.groupby('review_date')['company'].count()\n",
    "# 水平合并Series到DataFrame\n",
    "d3=pd.concat([d1, d2], axis=1,keys=('70_count','count'))\n",
    "d3['percent']=d3['70_count']/d3['count']*100\n",
    "d3"
   ]
  },
  {
   "cell_type": "code",
   "execution_count": 34,
   "metadata": {
    "collapsed": false,
    "id": "5BBE3AFF381A4D0E8D4BDFF9C5804F57",
    "jupyter": {
     "outputs_hidden": false
    },
    "notebookId": "66a75485b804a65ef51227c5",
    "slideshow": {
     "slide_type": "slide"
    },
    "tags": []
   },
   "outputs": [
    {
     "data": {
      "text/plain": [
       "(0, 100)"
      ]
     },
     "execution_count": 34,
     "metadata": {},
     "output_type": "execute_result"
    },
    {
     "data": {
      "text/html": [
       "<img src=\"https://cdn.kesci.com/upload/rt/5BBE3AFF381A4D0E8D4BDFF9C5804F57/shshag3tii.png\">"
      ],
      "text/plain": [
       "<Figure size 432x288 with 1 Axes>"
      ]
     },
     "metadata": {
      "needs_background": "light"
     },
     "output_type": "display_data"
    }
   ],
   "source": [
    "plt.plot(d3.index,d3['percent'])\n",
    "plt.ylim(0,100)\n"
   ]
  },
  {
   "cell_type": "markdown",
   "metadata": {
    "id": "30CE5671FF3C4325AB6FA5385BA59716",
    "jupyter": {},
    "notebookId": "66a75485b804a65ef51227c5",
    "runtime": {
     "execution_status": null,
     "is_visible": false,
     "status": "default"
    },
    "scrolled": false,
    "slideshow": {
     "slide_type": "slide"
    },
    "tags": []
   },
   "source": [
    "#### 分析 18  \n",
    "使用70%coco_percent的参赛产品的比例整体逐年上升，进一步验证制造商越来越倾向于使用这个比例研制巧克力"
   ]
  },
  {
   "cell_type": "markdown",
   "metadata": {
    "id": "58686C5333E44AC8B435429E41B06100",
    "jupyter": {},
    "notebookId": "66a75485b804a65ef51227c5",
    "runtime": {
     "execution_status": null,
     "is_visible": false,
     "status": "default"
    },
    "scrolled": false,
    "slideshow": {
     "slide_type": "slide"
    },
    "tags": []
   },
   "source": [
    "### 八、分析不同配方组合"
   ]
  },
  {
   "cell_type": "code",
   "execution_count": 35,
   "metadata": {
    "collapsed": false,
    "id": "DB6F20DE4FF64A1A902894ABFC805F90",
    "jupyter": {
     "outputs_hidden": false
    },
    "notebookId": "66a75485b804a65ef51227c5",
    "slideshow": {
     "slide_type": "slide"
    },
    "tags": []
   },
   "outputs": [
    {
     "data": {
      "text/plain": [
       "<matplotlib.axes._subplots.AxesSubplot at 0x7f8ebb3192b0>"
      ]
     },
     "execution_count": 35,
     "metadata": {},
     "output_type": "execute_result"
    },
    {
     "data": {
      "text/html": [
       "<img src=\"https://cdn.kesci.com/upload/rt/DB6F20DE4FF64A1A902894ABFC805F90/shshailh8f.png\">"
      ],
      "text/plain": [
       "<Figure size 1800x720 with 2 Axes>"
      ]
     },
     "metadata": {
      "needs_background": "light"
     },
     "output_type": "display_data"
    },
    {
     "data": {
      "text/html": [
       "<img src=\"https://cdn.kesci.com/upload/rt/DB6F20DE4FF64A1A902894ABFC805F90/shshai86ap.png\">"
      ],
      "text/plain": [
       "<Figure size 720x288 with 2 Axes>"
      ]
     },
     "metadata": {
      "needs_background": "light"
     },
     "output_type": "display_data"
    },
    {
     "data": {
      "text/html": [
       "<img src=\"https://cdn.kesci.com/upload/rt/DB6F20DE4FF64A1A902894ABFC805F90/shshajho12.png\">"
      ],
      "text/plain": [
       "<Figure size 1800x720 with 2 Axes>"
      ]
     },
     "metadata": {
      "needs_background": "light"
     },
     "output_type": "display_data"
    }
   ],
   "source": [
    "\n",
    "c4 = df_nona.pivot_table(index='content', columns='cocoa_percent', values='rating', aggfunc='count') \n",
    "c5 = df_top.pivot_table(index='content', columns='cocoa_percent', values='rating', aggfunc='count') \n",
    "c6=c5/c4*100\n",
    "\n",
    "plt.figure(figsize = (25, 10)) \n",
    "sns.heatmap(data=c4, cmap='YlOrBr', annot=True, fmt='.0f')\n",
    "plt.figure(figsize = (10, 4)) \n",
    "sns.heatmap(data=c5, cmap='YlOrBr', annot=True)\n",
    "plt.figure(figsize = (25, 10)) \n",
    "sns.heatmap(data=c6, cmap='YlOrBr', annot=True, fmt='.0f')\n"
   ]
  },
  {
   "cell_type": "markdown",
   "metadata": {
    "id": "16B478A26D8D467DB36C0102BC5D55DE",
    "jupyter": {},
    "notebookId": "66a75485b804a65ef51227c5",
    "runtime": {
     "execution_status": null,
     "is_visible": false,
     "status": "default"
    },
    "scrolled": false,
    "slideshow": {
     "slide_type": "slide"
    },
    "tags": []
   },
   "source": [
    "#### 分析 19  \n",
    "1. 使用70%可可、000010，100010（使用糖，且不使用香草、软磷脂、盐、甜味剂，最好添加可可脂），这两种配方的参赛产品最多了，称之为大众配方也不为过  \n",
    "2. 同样是上述配方，在冠军巧克力中，这种配方的巧克力数量也是最多的  \n",
    "3. 但是从冠参比（冠军数/参赛数*100%）上看，63%或69%的可可、111010（使用可可脂、香草、软磷脂、糖且不使用盐、甜味剂），这种配方的占比极高"
   ]
  },
  {
   "cell_type": "code",
   "execution_count": 36,
   "metadata": {
    "collapsed": false,
    "id": "A49C9D85D6C5471C86BB0C63331EED6D",
    "jupyter": {
     "outputs_hidden": false
    },
    "notebookId": "66a75485b804a65ef51227c5",
    "slideshow": {
     "slide_type": "slide"
    },
    "tags": []
   },
   "outputs": [
    {
     "data": {
      "text/html": [
       "<div>\n",
       "<style scoped>\n",
       "    .dataframe tbody tr th:only-of-type {\n",
       "        vertical-align: middle;\n",
       "    }\n",
       "\n",
       "    .dataframe tbody tr th {\n",
       "        vertical-align: top;\n",
       "    }\n",
       "\n",
       "    .dataframe thead th {\n",
       "        text-align: right;\n",
       "    }\n",
       "</style>\n",
       "<table border=\"1\" class=\"dataframe\">\n",
       "  <thead>\n",
       "    <tr style=\"text-align: right;\">\n",
       "      <th></th>\n",
       "      <th>company</th>\n",
       "      <th>company_location</th>\n",
       "      <th>review_date</th>\n",
       "      <th>country_of_bean_origin</th>\n",
       "      <th>specific_bean_origin_or_bar_name</th>\n",
       "      <th>cocoa_percent</th>\n",
       "      <th>rating</th>\n",
       "      <th>counts_of_ingredients</th>\n",
       "      <th>cocoa_butter</th>\n",
       "      <th>vanilla</th>\n",
       "      <th>lecithin</th>\n",
       "      <th>salt</th>\n",
       "      <th>sugar</th>\n",
       "      <th>sweetener_without_sugar</th>\n",
       "      <th>first_taste</th>\n",
       "      <th>second_taste</th>\n",
       "      <th>third_taste</th>\n",
       "      <th>fourth_taste</th>\n",
       "      <th>taste</th>\n",
       "      <th>content</th>\n",
       "    </tr>\n",
       "  </thead>\n",
       "  <tbody>\n",
       "    <tr>\n",
       "      <th>1250</th>\n",
       "      <td>Madecasse (Cinagra)</td>\n",
       "      <td>Madagascar</td>\n",
       "      <td>2008</td>\n",
       "      <td>Madagascar</td>\n",
       "      <td>Madagascar</td>\n",
       "      <td>63.0</td>\n",
       "      <td>4.0</td>\n",
       "      <td>5</td>\n",
       "      <td>1</td>\n",
       "      <td>1</td>\n",
       "      <td>1</td>\n",
       "      <td>0</td>\n",
       "      <td>1</td>\n",
       "      <td>0</td>\n",
       "      <td>intense</td>\n",
       "      <td>nutty</td>\n",
       "      <td>cocoa</td>\n",
       "      <td></td>\n",
       "      <td>intense nutty cocoa</td>\n",
       "      <td>111010</td>\n",
       "    </tr>\n",
       "    <tr>\n",
       "      <th>2116</th>\n",
       "      <td>Valrhona</td>\n",
       "      <td>France</td>\n",
       "      <td>2012</td>\n",
       "      <td>Venezuela</td>\n",
       "      <td>Otucan, Grand Cru</td>\n",
       "      <td>69.0</td>\n",
       "      <td>4.0</td>\n",
       "      <td>5</td>\n",
       "      <td>1</td>\n",
       "      <td>1</td>\n",
       "      <td>1</td>\n",
       "      <td>0</td>\n",
       "      <td>1</td>\n",
       "      <td>0</td>\n",
       "      <td>green</td>\n",
       "      <td>unripened fruit</td>\n",
       "      <td>banana</td>\n",
       "      <td></td>\n",
       "      <td>green unripened fruit banana</td>\n",
       "      <td>111010</td>\n",
       "    </tr>\n",
       "    <tr>\n",
       "      <th>2119</th>\n",
       "      <td>Valrhona</td>\n",
       "      <td>France</td>\n",
       "      <td>2015</td>\n",
       "      <td>Peru</td>\n",
       "      <td>Piura, Illanka, Quemazon</td>\n",
       "      <td>63.0</td>\n",
       "      <td>4.0</td>\n",
       "      <td>5</td>\n",
       "      <td>1</td>\n",
       "      <td>1</td>\n",
       "      <td>1</td>\n",
       "      <td>0</td>\n",
       "      <td>1</td>\n",
       "      <td>0</td>\n",
       "      <td>intense</td>\n",
       "      <td>dark berry</td>\n",
       "      <td>grapes</td>\n",
       "      <td></td>\n",
       "      <td>intense dark berry grapes</td>\n",
       "      <td>111010</td>\n",
       "    </tr>\n",
       "  </tbody>\n",
       "</table>\n",
       "</div>"
      ],
      "text/plain": [
       "                  company company_location  review_date  \\\n",
       "1250  Madecasse (Cinagra)       Madagascar         2008   \n",
       "2116             Valrhona           France         2012   \n",
       "2119             Valrhona           France         2015   \n",
       "\n",
       "     country_of_bean_origin specific_bean_origin_or_bar_name  cocoa_percent  \\\n",
       "1250             Madagascar                       Madagascar           63.0   \n",
       "2116              Venezuela                Otucan, Grand Cru           69.0   \n",
       "2119                   Peru         Piura, Illanka, Quemazon           63.0   \n",
       "\n",
       "      rating  counts_of_ingredients cocoa_butter vanilla lecithin salt sugar  \\\n",
       "1250     4.0                      5            1       1        1    0     1   \n",
       "2116     4.0                      5            1       1        1    0     1   \n",
       "2119     4.0                      5            1       1        1    0     1   \n",
       "\n",
       "     sweetener_without_sugar first_taste     second_taste third_taste  \\\n",
       "1250                       0     intense            nutty       cocoa   \n",
       "2116                       0       green  unripened fruit      banana   \n",
       "2119                       0     intense       dark berry      grapes   \n",
       "\n",
       "     fourth_taste                          taste content  \n",
       "1250                        intense nutty cocoa   111010  \n",
       "2116               green unripened fruit banana   111010  \n",
       "2119                  intense dark berry grapes   111010  "
      ]
     },
     "execution_count": 36,
     "metadata": {},
     "output_type": "execute_result"
    }
   ],
   "source": [
    "df_nona[(df_nona['cocoa_percent'].isin([63,69])) & (df_nona['content']=='111010')]\n"
   ]
  },
  {
   "cell_type": "markdown",
   "metadata": {
    "id": "161C63C291A54CADB41BBDDFDBCE7490",
    "jupyter": {},
    "notebookId": "66a75485b804a65ef51227c5",
    "runtime": {
     "execution_status": null,
     "is_visible": false,
     "status": "default"
    },
    "scrolled": false,
    "slideshow": {
     "slide_type": "slide"
    },
    "tags": []
   },
   "source": [
    "#### 分析 20  \n",
    "进一步查看发现两种配方下的参赛数一共只有3个，但是都拿到了4分的好成绩，虽然参考数较少，但是不免是一种新的研发道路"
   ]
  },
  {
   "cell_type": "markdown",
   "metadata": {
    "id": "738FF84BE29948579B0AACFAA5F0B672",
    "jupyter": {},
    "notebookId": "66a75485b804a65ef51227c5",
    "runtime": {
     "execution_status": null,
     "is_visible": false,
     "status": "default"
    },
    "scrolled": false,
    "slideshow": {
     "slide_type": "slide"
    },
    "tags": []
   },
   "source": [
    "### 九、分析counts_of_ingredients字段"
   ]
  },
  {
   "cell_type": "code",
   "execution_count": 37,
   "metadata": {
    "collapsed": false,
    "id": "B81A8A34ADA6424F97521CF1E290EAA3",
    "jupyter": {
     "outputs_hidden": false
    },
    "notebookId": "66a75485b804a65ef51227c5",
    "slideshow": {
     "slide_type": "slide"
    },
    "tags": []
   },
   "outputs": [
    {
     "data": {
      "text/plain": [
       "counts_of_ingredients\n",
       "3    59\n",
       "2    25\n",
       "4    15\n",
       "5    11\n",
       "Name: rating, dtype: int64"
      ]
     },
     "execution_count": 37,
     "metadata": {},
     "output_type": "execute_result"
    }
   ],
   "source": [
    "df_coco_count=df_top.groupby('counts_of_ingredients')['rating'].count()\n",
    "df_coco_count.sort_values(ascending=False)\n"
   ]
  },
  {
   "cell_type": "markdown",
   "metadata": {
    "id": "790ACE21426C444E98564757422B5EAB",
    "jupyter": {},
    "notebookId": "66a75485b804a65ef51227c5",
    "runtime": {
     "execution_status": null,
     "is_visible": false,
     "status": "default"
    },
    "scrolled": false,
    "slideshow": {
     "slide_type": "slide"
    },
    "tags": []
   },
   "source": [
    "#### 分析 21  \n",
    "参赛产品中，使用三种成分的产品最多，制造商倾向于使用三种成分"
   ]
  },
  {
   "cell_type": "markdown",
   "metadata": {
    "id": "F9136A877CC7403B944D548F8CC1A271",
    "jupyter": {},
    "notebookId": "66a75485b804a65ef51227c5",
    "runtime": {
     "execution_status": null,
     "is_visible": false,
     "status": "default"
    },
    "scrolled": false,
    "slideshow": {
     "slide_type": "slide"
    },
    "tags": []
   },
   "source": [
    "## 总结"
   ]
  },
  {
   "cell_type": "markdown",
   "metadata": {
    "id": "ACA3CA638547460597AC6F5E49C5306F",
    "jupyter": {},
    "notebookId": "66a75485b804a65ef51227c5",
    "runtime": {
     "execution_status": null,
     "is_visible": false,
     "status": "default"
    },
    "scrolled": false,
    "slideshow": {
     "slide_type": "slide"
    },
    "tags": []
   },
   "source": [
    "1. 随着时间趋势，参赛数量整体呈现上升趋势，赛事热度不减。巧克力分数向上集中，产品质量逐年提升。  \n",
    "2. 比较受喜爱的口感是**creamy、cocoa、nutty**，不容易受喜爱的口感是sweet、earthy、sour  \n",
    "3. **Soma**公司参赛的巧克力产品最多，且冠军巧克力产品也最多  \n",
    "4. 所有冠军巧克力中，来自**美国**的制造商生产的产品数量最多；  \n",
    "\t\t所有生产过冠军巧克力的制造商中，来自**美国**的制造商最多；  \n",
    "\t\t整体参赛的制造商中，来自**美国**的制造商也是最多的  \n",
    "5. 冠军巧克力中，**原产地来自Peru**的最多，其次是Venezuela、Madagascar  \n",
    "6. 制造商更热衷于用**70**%的coco，再加上另外**两种**成分制作巧克力  \n",
    "7. 使用**70%可可**、000010或100010（**使用糖，且不使用香草、软磷脂、盐、甜味剂，最好添加可可脂**），这两种配方的参赛产品最多了，获得冠军巧克力的产品也最多（大众配方）  \n",
    "8. **63%或69%的可可**、111010（**使用可可脂、香草、软磷脂、糖且不使用盐、甜味剂**），这两种配方所有的参赛产品都拿到了冠军（潜力配方）  \n"
   ]
  }
 ],
 "metadata": {
  "kernelspec": {
   "display_name": "Python 3 (ipykernel)",
   "language": "python",
   "name": "python3"
  },
  "language_info": {
   "codemirror_mode": {
    "name": "ipython",
    "version": 3
   },
   "file_extension": ".py",
   "mimetype": "text/x-python",
   "name": "python",
   "nbconvert_exporter": "python",
   "pygments_lexer": "ipython3",
   "version": "3.12.4"
  }
 },
 "nbformat": 4,
 "nbformat_minor": 4
}
